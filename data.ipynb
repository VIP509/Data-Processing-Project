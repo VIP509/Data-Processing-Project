{
 "cells": [
  {
   "cell_type": "code",
   "execution_count": null,
   "metadata": {},
   "outputs": [],
   "source": []
  },
  {
   "cell_type": "code",
   "execution_count": 12,
   "metadata": {},
   "outputs": [],
   "source": [
    "import numpy as np\n",
    "import pandas as pd\n",
    "import matplotlib.pyplot as plt\n",
    "import seaborn as sns\n",
    "\n"
   ]
  },
  {
   "cell_type": "markdown",
   "metadata": {},
   "source": [
    "# Ayiti Analytics Data Processing Bootcamp\n",
    "Ayiti Analytics Data wants to expand its training centers throughout all the communes of the country. Your role as a data analyst is to help them realize this dream.\n",
    "\n",
    "Its objective is to know which three communes of the country will be the most likely to expand its training centers.\n",
    "\n",
    "Knowing that each cohort must have 30 students\n",
    " \n",
    "* How many applications must be made to select 25% women for each on average\n",
    "\n",
    "* What are the most effective communication channels (Alumni, Facebook, WhatsApp, Friend ...) that will allow a student to be susceptible to selection\n",
    " \n",
    "* What is the average number of university students who should participate in this program\n",
    "* What will be the average number of applications per week that we could have\n",
    "* How many weeks should we extend the application process to select 60 students per commune?\n",
    "* If we were to do all the bootcamp online, who would be the best communes and how many applications would we need to select 30 student and what percentage of students would have a laptop, an internet connection, both at the same time\n",
    "* What are the most effective communication channels (Alumni, Facebook, WhatsApp, Friend ...) that will allow a women to be susceptible to selection\n",
    "\n",
    "### NB \n",
    "Use the same framework of the BA project to complete this project\n"
   ]
  },
  {
   "cell_type": "code",
   "execution_count": 101,
   "metadata": {},
   "outputs": [
    {
     "output_type": "display_data",
     "data": {
      "text/plain": "    Unnamed: 0                created_at   user_id  \\\n0            0  2021-03-14T15:34:35.014Z  41587952   \n1            1  2021-03-14T04:20:23.483Z  41564742   \n2            2  2021-03-12T19:29:22.832Z  41501853   \n3            3  2021-03-12T14:23:11.154Z  40284930   \n4            4  2021-03-11T16:01:17.901Z  40281483   \n5            5  2021-03-03T00:35:29.698Z  34858658   \n6            6  2021-03-01T23:34:27.375Z  40131930   \n7            7  2021-02-25T15:36:26.464Z  40411976   \n8            8  2021-02-25T04:45:53.407Z  40388669   \n9            9  2021-02-24T21:22:15.936Z  40369133   \n10          10  2021-02-23T15:42:17.501Z  40278060   \n11          11  2021-02-22T19:16:35.371Z  39857484   \n12          12  2021-02-20T22:59:46.749Z  40121178   \n13          13  2021-02-18T14:45:02.292Z  39908510   \n14          14  2021-02-17T13:48:38.371Z  39903501   \n15          15  2021-02-17T11:08:54.385Z  39896120   \n16          16  2021-02-16T20:09:31.627Z  39856539   \n17          17  2021-01-05T04:00:41.222Z  34856150   \n\n                   product_name  product_id  amount_dollars  amount_cents  \\\n0   Entwodiksyon Nan Syans Done     1100636              20          2000   \n1   Entwodiksyon Nan Syans Done     1100636              20          2000   \n2   Entwodiksyon Nan Syans Done     1100636              20          2000   \n3   Entwodiksyon Nan Syans Done     1100636               0             0   \n4   Entwodiksyon Nan Syans Done     1100636              20          2000   \n5   Entwodiksyon Nan Syans Done     1100636              20          2000   \n6   Entwodiksyon Nan Syans Done     1100636              20          2000   \n7   Entwodiksyon Nan Syans Done     1100636              20          2000   \n8   Entwodiksyon Nan Syans Done     1100636               0             0   \n9   Entwodiksyon Nan Syans Done     1100636               0             0   \n10  Entwodiksyon Nan Syans Done     1100636              20          2000   \n11  Entwodiksyon Nan Syans Done     1100636              20          2000   \n12  Entwodiksyon Nan Syans Done     1100636              20          2000   \n13  Entwodiksyon Nan Syans Done     1100636              20          2000   \n14  Entwodiksyon Nan Syans Done     1100636              20          2000   \n15  Entwodiksyon Nan Syans Done     1100636               0             0   \n16  Entwodiksyon Nan Syans Done     1100636              20          2000   \n17  Entwodiksyon Nan Syans Done     1100636              20          2000   \n\n    subscription          coupon_code  coupon_id  affiliate_referral_code  \\\n0          False                  NaN        NaN                      NaN   \n1          False                  NaN        NaN                      NaN   \n2          False                  NaN        NaN                      NaN   \n3          False    impact_hub_coupon  6658457.0                      NaN   \n4          False                  NaN        NaN                      NaN   \n5          False                  NaN        NaN                      NaN   \n6          False                  NaN        NaN                      NaN   \n7          False                  NaN        NaN                      NaN   \n8          False     testing_course_1  6516246.0                      NaN   \n9          False  prerequisite_course  6513409.0                      NaN   \n10         False                  NaN        NaN                      NaN   \n11         False                  NaN        NaN                      NaN   \n12         False                  NaN        NaN                      NaN   \n13         False                  NaN        NaN                      NaN   \n14         False                  NaN        NaN                      NaN   \n15         False      bootcamp_enroll  6452874.0                      NaN   \n16         False                  NaN        NaN                      NaN   \n17         False                  NaN        NaN                      NaN   \n\n      status                              quest_id  \n0   Complete  906b3c86-ce95-11eb-b6a7-7c67a234f601  \n1   Complete  906636cf-ce95-11eb-8679-7c67a234f601  \n2   Complete  906968f5-ce95-11eb-9e1a-7c67a234f601  \n3   Complete  9060477c-ce95-11eb-ace3-7c67a234f601  \n4   Complete  9064ff29-ce95-11eb-a3d3-7c67a234f601  \n5   Complete  9065740c-ce95-11eb-968f-7c67a234f601  \n6   Complete  906a52b7-ce95-11eb-9c4b-7c67a234f601  \n7   Complete  90617f12-ce95-11eb-a3c8-7c67a234f601  \n8   Complete                                   NaN  \n9   Complete  9061312a-ce95-11eb-ba28-7c67a234f601  \n10  Complete  9064ff28-ce95-11eb-857f-7c67a234f601  \n11  Complete  905ec1ec-ce95-11eb-8136-7c67a234f601  \n12  Complete                                   NaN  \n13  Complete  905f5dc1-ce95-11eb-bfa7-7c67a234f601  \n14  Complete                                   NaN  \n15  Complete  9062b754-ce95-11eb-b31e-7c67a234f601  \n16  Complete  9069789f-ce95-11eb-9788-7c67a234f601  \n17  Complete                                   NaN  ",
      "text/html": "<div>\n<style scoped>\n    .dataframe tbody tr th:only-of-type {\n        vertical-align: middle;\n    }\n\n    .dataframe tbody tr th {\n        vertical-align: top;\n    }\n\n    .dataframe thead th {\n        text-align: right;\n    }\n</style>\n<table border=\"1\" class=\"dataframe\">\n  <thead>\n    <tr style=\"text-align: right;\">\n      <th></th>\n      <th>Unnamed: 0</th>\n      <th>created_at</th>\n      <th>user_id</th>\n      <th>product_name</th>\n      <th>product_id</th>\n      <th>amount_dollars</th>\n      <th>amount_cents</th>\n      <th>subscription</th>\n      <th>coupon_code</th>\n      <th>coupon_id</th>\n      <th>affiliate_referral_code</th>\n      <th>status</th>\n      <th>quest_id</th>\n    </tr>\n  </thead>\n  <tbody>\n    <tr>\n      <th>0</th>\n      <td>0</td>\n      <td>2021-03-14T15:34:35.014Z</td>\n      <td>41587952</td>\n      <td>Entwodiksyon Nan Syans Done</td>\n      <td>1100636</td>\n      <td>20</td>\n      <td>2000</td>\n      <td>False</td>\n      <td>NaN</td>\n      <td>NaN</td>\n      <td>NaN</td>\n      <td>Complete</td>\n      <td>906b3c86-ce95-11eb-b6a7-7c67a234f601</td>\n    </tr>\n    <tr>\n      <th>1</th>\n      <td>1</td>\n      <td>2021-03-14T04:20:23.483Z</td>\n      <td>41564742</td>\n      <td>Entwodiksyon Nan Syans Done</td>\n      <td>1100636</td>\n      <td>20</td>\n      <td>2000</td>\n      <td>False</td>\n      <td>NaN</td>\n      <td>NaN</td>\n      <td>NaN</td>\n      <td>Complete</td>\n      <td>906636cf-ce95-11eb-8679-7c67a234f601</td>\n    </tr>\n    <tr>\n      <th>2</th>\n      <td>2</td>\n      <td>2021-03-12T19:29:22.832Z</td>\n      <td>41501853</td>\n      <td>Entwodiksyon Nan Syans Done</td>\n      <td>1100636</td>\n      <td>20</td>\n      <td>2000</td>\n      <td>False</td>\n      <td>NaN</td>\n      <td>NaN</td>\n      <td>NaN</td>\n      <td>Complete</td>\n      <td>906968f5-ce95-11eb-9e1a-7c67a234f601</td>\n    </tr>\n    <tr>\n      <th>3</th>\n      <td>3</td>\n      <td>2021-03-12T14:23:11.154Z</td>\n      <td>40284930</td>\n      <td>Entwodiksyon Nan Syans Done</td>\n      <td>1100636</td>\n      <td>0</td>\n      <td>0</td>\n      <td>False</td>\n      <td>impact_hub_coupon</td>\n      <td>6658457.0</td>\n      <td>NaN</td>\n      <td>Complete</td>\n      <td>9060477c-ce95-11eb-ace3-7c67a234f601</td>\n    </tr>\n    <tr>\n      <th>4</th>\n      <td>4</td>\n      <td>2021-03-11T16:01:17.901Z</td>\n      <td>40281483</td>\n      <td>Entwodiksyon Nan Syans Done</td>\n      <td>1100636</td>\n      <td>20</td>\n      <td>2000</td>\n      <td>False</td>\n      <td>NaN</td>\n      <td>NaN</td>\n      <td>NaN</td>\n      <td>Complete</td>\n      <td>9064ff29-ce95-11eb-a3d3-7c67a234f601</td>\n    </tr>\n    <tr>\n      <th>5</th>\n      <td>5</td>\n      <td>2021-03-03T00:35:29.698Z</td>\n      <td>34858658</td>\n      <td>Entwodiksyon Nan Syans Done</td>\n      <td>1100636</td>\n      <td>20</td>\n      <td>2000</td>\n      <td>False</td>\n      <td>NaN</td>\n      <td>NaN</td>\n      <td>NaN</td>\n      <td>Complete</td>\n      <td>9065740c-ce95-11eb-968f-7c67a234f601</td>\n    </tr>\n    <tr>\n      <th>6</th>\n      <td>6</td>\n      <td>2021-03-01T23:34:27.375Z</td>\n      <td>40131930</td>\n      <td>Entwodiksyon Nan Syans Done</td>\n      <td>1100636</td>\n      <td>20</td>\n      <td>2000</td>\n      <td>False</td>\n      <td>NaN</td>\n      <td>NaN</td>\n      <td>NaN</td>\n      <td>Complete</td>\n      <td>906a52b7-ce95-11eb-9c4b-7c67a234f601</td>\n    </tr>\n    <tr>\n      <th>7</th>\n      <td>7</td>\n      <td>2021-02-25T15:36:26.464Z</td>\n      <td>40411976</td>\n      <td>Entwodiksyon Nan Syans Done</td>\n      <td>1100636</td>\n      <td>20</td>\n      <td>2000</td>\n      <td>False</td>\n      <td>NaN</td>\n      <td>NaN</td>\n      <td>NaN</td>\n      <td>Complete</td>\n      <td>90617f12-ce95-11eb-a3c8-7c67a234f601</td>\n    </tr>\n    <tr>\n      <th>8</th>\n      <td>8</td>\n      <td>2021-02-25T04:45:53.407Z</td>\n      <td>40388669</td>\n      <td>Entwodiksyon Nan Syans Done</td>\n      <td>1100636</td>\n      <td>0</td>\n      <td>0</td>\n      <td>False</td>\n      <td>testing_course_1</td>\n      <td>6516246.0</td>\n      <td>NaN</td>\n      <td>Complete</td>\n      <td>NaN</td>\n    </tr>\n    <tr>\n      <th>9</th>\n      <td>9</td>\n      <td>2021-02-24T21:22:15.936Z</td>\n      <td>40369133</td>\n      <td>Entwodiksyon Nan Syans Done</td>\n      <td>1100636</td>\n      <td>0</td>\n      <td>0</td>\n      <td>False</td>\n      <td>prerequisite_course</td>\n      <td>6513409.0</td>\n      <td>NaN</td>\n      <td>Complete</td>\n      <td>9061312a-ce95-11eb-ba28-7c67a234f601</td>\n    </tr>\n    <tr>\n      <th>10</th>\n      <td>10</td>\n      <td>2021-02-23T15:42:17.501Z</td>\n      <td>40278060</td>\n      <td>Entwodiksyon Nan Syans Done</td>\n      <td>1100636</td>\n      <td>20</td>\n      <td>2000</td>\n      <td>False</td>\n      <td>NaN</td>\n      <td>NaN</td>\n      <td>NaN</td>\n      <td>Complete</td>\n      <td>9064ff28-ce95-11eb-857f-7c67a234f601</td>\n    </tr>\n    <tr>\n      <th>11</th>\n      <td>11</td>\n      <td>2021-02-22T19:16:35.371Z</td>\n      <td>39857484</td>\n      <td>Entwodiksyon Nan Syans Done</td>\n      <td>1100636</td>\n      <td>20</td>\n      <td>2000</td>\n      <td>False</td>\n      <td>NaN</td>\n      <td>NaN</td>\n      <td>NaN</td>\n      <td>Complete</td>\n      <td>905ec1ec-ce95-11eb-8136-7c67a234f601</td>\n    </tr>\n    <tr>\n      <th>12</th>\n      <td>12</td>\n      <td>2021-02-20T22:59:46.749Z</td>\n      <td>40121178</td>\n      <td>Entwodiksyon Nan Syans Done</td>\n      <td>1100636</td>\n      <td>20</td>\n      <td>2000</td>\n      <td>False</td>\n      <td>NaN</td>\n      <td>NaN</td>\n      <td>NaN</td>\n      <td>Complete</td>\n      <td>NaN</td>\n    </tr>\n    <tr>\n      <th>13</th>\n      <td>13</td>\n      <td>2021-02-18T14:45:02.292Z</td>\n      <td>39908510</td>\n      <td>Entwodiksyon Nan Syans Done</td>\n      <td>1100636</td>\n      <td>20</td>\n      <td>2000</td>\n      <td>False</td>\n      <td>NaN</td>\n      <td>NaN</td>\n      <td>NaN</td>\n      <td>Complete</td>\n      <td>905f5dc1-ce95-11eb-bfa7-7c67a234f601</td>\n    </tr>\n    <tr>\n      <th>14</th>\n      <td>14</td>\n      <td>2021-02-17T13:48:38.371Z</td>\n      <td>39903501</td>\n      <td>Entwodiksyon Nan Syans Done</td>\n      <td>1100636</td>\n      <td>20</td>\n      <td>2000</td>\n      <td>False</td>\n      <td>NaN</td>\n      <td>NaN</td>\n      <td>NaN</td>\n      <td>Complete</td>\n      <td>NaN</td>\n    </tr>\n    <tr>\n      <th>15</th>\n      <td>15</td>\n      <td>2021-02-17T11:08:54.385Z</td>\n      <td>39896120</td>\n      <td>Entwodiksyon Nan Syans Done</td>\n      <td>1100636</td>\n      <td>0</td>\n      <td>0</td>\n      <td>False</td>\n      <td>bootcamp_enroll</td>\n      <td>6452874.0</td>\n      <td>NaN</td>\n      <td>Complete</td>\n      <td>9062b754-ce95-11eb-b31e-7c67a234f601</td>\n    </tr>\n    <tr>\n      <th>16</th>\n      <td>16</td>\n      <td>2021-02-16T20:09:31.627Z</td>\n      <td>39856539</td>\n      <td>Entwodiksyon Nan Syans Done</td>\n      <td>1100636</td>\n      <td>20</td>\n      <td>2000</td>\n      <td>False</td>\n      <td>NaN</td>\n      <td>NaN</td>\n      <td>NaN</td>\n      <td>Complete</td>\n      <td>9069789f-ce95-11eb-9788-7c67a234f601</td>\n    </tr>\n    <tr>\n      <th>17</th>\n      <td>17</td>\n      <td>2021-01-05T04:00:41.222Z</td>\n      <td>34856150</td>\n      <td>Entwodiksyon Nan Syans Done</td>\n      <td>1100636</td>\n      <td>20</td>\n      <td>2000</td>\n      <td>False</td>\n      <td>NaN</td>\n      <td>NaN</td>\n      <td>NaN</td>\n      <td>Complete</td>\n      <td>NaN</td>\n    </tr>\n  </tbody>\n</table>\n</div>"
     },
     "metadata": {}
    }
   ],
   "source": [
    "df = ['df1','df2','df3']\n",
    "dataset = ['enroll','industry','ord']\n",
    "def merging1(dataset) :\n",
    "    for x in range(0,len(dataset)):\n",
    "        for i in dataset:\n",
    "             a = ('{}.csv'.format(i))\n",
    "             globals()['string%s' % x]  = pd.read_csv(a)\n",
    "           \n",
    "    \n",
    "\n",
    "merging1(dataset)\n",
    "display(string2)\n"
   ]
  },
  {
   "cell_type": "code",
   "execution_count": 21,
   "metadata": {},
   "outputs": [
    {
     "output_type": "execute_result",
     "data": {
      "text/plain": [
       "['enroll']"
      ]
     },
     "metadata": {},
     "execution_count": 21
    }
   ],
   "source": [
    "dataset"
   ]
  },
  {
   "cell_type": "code",
   "execution_count": 8,
   "metadata": {},
   "outputs": [
    {
     "output_type": "error",
     "ename": "ValueError",
     "evalue": "too many values to unpack (expected 1)",
     "traceback": [
      "\u001b[1;31m---------------------------------------------------------------------------\u001b[0m",
      "\u001b[1;31mValueError\u001b[0m                                Traceback (most recent call last)",
      "\u001b[1;32m<ipython-input-8-80ffcdb51755>\u001b[0m in \u001b[0;36m<module>\u001b[1;34m\u001b[0m\n\u001b[0;32m      5\u001b[0m         \u001b[0mdisplay\u001b[0m\u001b[1;33m(\u001b[0m\u001b[1;33m[\u001b[0m\u001b[0mi\u001b[0m\u001b[1;33m]\u001b[0m\u001b[1;33m.\u001b[0m\u001b[0mformat\u001b[0m\u001b[1;33m(\u001b[0m\u001b[0mi\u001b[0m\u001b[1;33m)\u001b[0m\u001b[1;33m.\u001b[0m\u001b[0mhead\u001b[0m\u001b[1;33m(\u001b[0m\u001b[1;33m)\u001b[0m\u001b[1;33m)\u001b[0m\u001b[1;33m\u001b[0m\u001b[1;33m\u001b[0m\u001b[0m\n\u001b[0;32m      6\u001b[0m \u001b[0mdataset\u001b[0m \u001b[1;33m=\u001b[0m \u001b[1;33m[\u001b[0m\u001b[1;34m'enroll'\u001b[0m\u001b[1;33m]\u001b[0m\u001b[1;33m\u001b[0m\u001b[1;33m\u001b[0m\u001b[0m\n\u001b[1;32m----> 7\u001b[1;33m \u001b[0mmerging\u001b[0m\u001b[1;33m(\u001b[0m\u001b[0mdataset\u001b[0m\u001b[1;33m)\u001b[0m\u001b[1;33m\u001b[0m\u001b[1;33m\u001b[0m\u001b[0m\n\u001b[0m\u001b[0;32m      8\u001b[0m \u001b[1;33m\u001b[0m\u001b[0m\n",
      "\u001b[1;32m<ipython-input-8-80ffcdb51755>\u001b[0m in \u001b[0;36mmerging\u001b[1;34m(dataset)\u001b[0m\n\u001b[0;32m      2\u001b[0m     \u001b[1;32mimport\u001b[0m \u001b[0mpandas\u001b[0m \u001b[1;32mas\u001b[0m \u001b[0mpd\u001b[0m\u001b[1;33m\u001b[0m\u001b[1;33m\u001b[0m\u001b[0m\n\u001b[0;32m      3\u001b[0m     \u001b[1;32mfor\u001b[0m \u001b[0mi\u001b[0m \u001b[1;32min\u001b[0m \u001b[0mdataset\u001b[0m  \u001b[1;33m:\u001b[0m\u001b[1;33m\u001b[0m\u001b[1;33m\u001b[0m\u001b[0m\n\u001b[1;32m----> 4\u001b[1;33m         \u001b[1;33m[\u001b[0m\u001b[0mi\u001b[0m\u001b[1;33m]\u001b[0m\u001b[1;33m=\u001b[0m\u001b[0mpd\u001b[0m\u001b[1;33m.\u001b[0m\u001b[0mread_csv\u001b[0m\u001b[1;33m(\u001b[0m \u001b[1;34m'{}.csv'\u001b[0m\u001b[1;33m.\u001b[0m\u001b[0mformat\u001b[0m\u001b[1;33m(\u001b[0m\u001b[0mi\u001b[0m\u001b[1;33m)\u001b[0m\u001b[1;33m)\u001b[0m\u001b[1;33m\u001b[0m\u001b[1;33m\u001b[0m\u001b[0m\n\u001b[0m\u001b[0;32m      5\u001b[0m         \u001b[0mdisplay\u001b[0m\u001b[1;33m(\u001b[0m\u001b[1;33m[\u001b[0m\u001b[0mi\u001b[0m\u001b[1;33m]\u001b[0m\u001b[1;33m.\u001b[0m\u001b[0mformat\u001b[0m\u001b[1;33m(\u001b[0m\u001b[0mi\u001b[0m\u001b[1;33m)\u001b[0m\u001b[1;33m.\u001b[0m\u001b[0mhead\u001b[0m\u001b[1;33m(\u001b[0m\u001b[1;33m)\u001b[0m\u001b[1;33m)\u001b[0m\u001b[1;33m\u001b[0m\u001b[1;33m\u001b[0m\u001b[0m\n\u001b[0;32m      6\u001b[0m \u001b[0mdataset\u001b[0m \u001b[1;33m=\u001b[0m \u001b[1;33m[\u001b[0m\u001b[1;34m'enroll'\u001b[0m\u001b[1;33m]\u001b[0m\u001b[1;33m\u001b[0m\u001b[1;33m\u001b[0m\u001b[0m\n",
      "\u001b[1;31mValueError\u001b[0m: too many values to unpack (expected 1)"
     ]
    }
   ],
   "source": [
    "def merging(dataset) :\n",
    "    import pandas as pd \n",
    "    for i in dataset  : \n",
    "        i=pd.read_csv( '{}.csv'.format(i))\n",
    "        display([i].format(i).head())\n",
    "merging(dataset)   \n",
    "    "
   ]
  },
  {
   "cell_type": "code",
   "execution_count": 3,
   "metadata": {},
   "outputs": [
    {
     "output_type": "display_data",
     "data": {
      "text/plain": "     Unnamed: 0                created_at               expiry_date   user_id  \\\n0             0  2020-12-12T06:41:29.844Z                       NaN  29816173   \n1             1  2020-12-13T14:41:17.720Z                       NaN  35229766   \n2             2  2020-12-15T00:53:06.499Z                       NaN  31987560   \n3             3  2020-12-18T18:38:55.683Z                       NaN  35616451   \n4             4  2020-12-21T14:45:06.528Z                       NaN  35390649   \n..          ...                       ...                       ...       ...   \n143         143  2021-03-14T02:16:08.736Z  2071-03-02T02:16:55.000Z  41508160   \n144         144  2021-03-14T04:20:30.803Z                       NaN  41564742   \n145         145  2021-03-14T07:34:09.491Z  2071-03-02T07:34:26.000Z  41569249   \n146         146  2021-03-14T15:34:39.800Z                       NaN  41587952   \n147         147  2021-03-14T17:34:44.861Z  2071-03-02T17:34:52.000Z  41592698   \n\n                     course_name  course_id  percentage_completed  \\\n0    Entwodiksyon Nan Syans Done    1047613              0.000000   \n1    Entwodiksyon Nan Syans Done    1047613              0.000000   \n2    Entwodiksyon Nan Syans Done    1047613              0.000000   \n3    Entwodiksyon Nan Syans Done    1047613              0.000000   \n4    Entwodiksyon Nan Syans Done    1047613              0.000000   \n..                           ...        ...                   ...   \n143  Entwodiksyon Nan Syans Done    1047613              0.279070   \n144  Entwodiksyon Nan Syans Done    1047613              0.023256   \n145  Entwodiksyon Nan Syans Done    1047613              0.000000   \n146  Entwodiksyon Nan Syans Done    1047613              0.325581   \n147  Entwodiksyon Nan Syans Done    1047613              0.046512   \n\n     completed_at  expired  is_free_trial  completed  \\\n0             NaN    False           True      False   \n1             NaN    False           True      False   \n2             NaN    False           True      False   \n3             NaN    False           True      False   \n4             NaN    False           True      False   \n..            ...      ...            ...        ...   \n143           NaN    False          False      False   \n144           NaN    False          False      False   \n145           NaN    False          False      False   \n146           NaN    False          False      False   \n147           NaN    False          False      False   \n\n                   started_at              activated_at  \\\n0                         NaN                       NaN   \n1                         NaN                       NaN   \n2                         NaN                       NaN   \n3                         NaN                       NaN   \n4                         NaN                       NaN   \n..                        ...                       ...   \n143  2021-03-14T02:18:52.472Z  2021-03-14T02:16:08.000Z   \n144  2021-03-14T04:22:12.626Z  2021-03-14T04:20:30.786Z   \n145                       NaN  2021-03-14T07:34:09.000Z   \n146  2021-03-14T15:34:56.007Z  2021-03-14T15:34:39.768Z   \n147  2021-03-14T17:36:13.505Z  2021-03-14T17:34:44.000Z   \n\n                   updated_at                              quest_id  \n0    2020-12-12T06:41:29.844Z                                   NaN  \n1    2020-12-13T14:41:17.720Z                                   NaN  \n2    2020-12-15T00:53:06.499Z                                   NaN  \n3    2020-12-18T18:38:55.683Z                                   NaN  \n4    2020-12-21T14:45:06.528Z                                   NaN  \n..                        ...                                   ...  \n143  2021-03-14T03:32:18.768Z  906b65e3-ce95-11eb-a294-7c67a234f601  \n144  2021-03-14T04:48:39.798Z  906636cf-ce95-11eb-8679-7c67a234f601  \n145  2021-03-14T07:34:26.558Z  906241d5-ce95-11eb-9850-7c67a234f601  \n146  2021-03-14T17:30:53.379Z  906b3c86-ce95-11eb-b6a7-7c67a234f601  \n147  2021-03-14T17:39:40.547Z                                   NaN  \n\n[148 rows x 15 columns]",
      "text/html": "<div>\n<style scoped>\n    .dataframe tbody tr th:only-of-type {\n        vertical-align: middle;\n    }\n\n    .dataframe tbody tr th {\n        vertical-align: top;\n    }\n\n    .dataframe thead th {\n        text-align: right;\n    }\n</style>\n<table border=\"1\" class=\"dataframe\">\n  <thead>\n    <tr style=\"text-align: right;\">\n      <th></th>\n      <th>Unnamed: 0</th>\n      <th>created_at</th>\n      <th>expiry_date</th>\n      <th>user_id</th>\n      <th>course_name</th>\n      <th>course_id</th>\n      <th>percentage_completed</th>\n      <th>completed_at</th>\n      <th>expired</th>\n      <th>is_free_trial</th>\n      <th>completed</th>\n      <th>started_at</th>\n      <th>activated_at</th>\n      <th>updated_at</th>\n      <th>quest_id</th>\n    </tr>\n  </thead>\n  <tbody>\n    <tr>\n      <th>0</th>\n      <td>0</td>\n      <td>2020-12-12T06:41:29.844Z</td>\n      <td>NaN</td>\n      <td>29816173</td>\n      <td>Entwodiksyon Nan Syans Done</td>\n      <td>1047613</td>\n      <td>0.000000</td>\n      <td>NaN</td>\n      <td>False</td>\n      <td>True</td>\n      <td>False</td>\n      <td>NaN</td>\n      <td>NaN</td>\n      <td>2020-12-12T06:41:29.844Z</td>\n      <td>NaN</td>\n    </tr>\n    <tr>\n      <th>1</th>\n      <td>1</td>\n      <td>2020-12-13T14:41:17.720Z</td>\n      <td>NaN</td>\n      <td>35229766</td>\n      <td>Entwodiksyon Nan Syans Done</td>\n      <td>1047613</td>\n      <td>0.000000</td>\n      <td>NaN</td>\n      <td>False</td>\n      <td>True</td>\n      <td>False</td>\n      <td>NaN</td>\n      <td>NaN</td>\n      <td>2020-12-13T14:41:17.720Z</td>\n      <td>NaN</td>\n    </tr>\n    <tr>\n      <th>2</th>\n      <td>2</td>\n      <td>2020-12-15T00:53:06.499Z</td>\n      <td>NaN</td>\n      <td>31987560</td>\n      <td>Entwodiksyon Nan Syans Done</td>\n      <td>1047613</td>\n      <td>0.000000</td>\n      <td>NaN</td>\n      <td>False</td>\n      <td>True</td>\n      <td>False</td>\n      <td>NaN</td>\n      <td>NaN</td>\n      <td>2020-12-15T00:53:06.499Z</td>\n      <td>NaN</td>\n    </tr>\n    <tr>\n      <th>3</th>\n      <td>3</td>\n      <td>2020-12-18T18:38:55.683Z</td>\n      <td>NaN</td>\n      <td>35616451</td>\n      <td>Entwodiksyon Nan Syans Done</td>\n      <td>1047613</td>\n      <td>0.000000</td>\n      <td>NaN</td>\n      <td>False</td>\n      <td>True</td>\n      <td>False</td>\n      <td>NaN</td>\n      <td>NaN</td>\n      <td>2020-12-18T18:38:55.683Z</td>\n      <td>NaN</td>\n    </tr>\n    <tr>\n      <th>4</th>\n      <td>4</td>\n      <td>2020-12-21T14:45:06.528Z</td>\n      <td>NaN</td>\n      <td>35390649</td>\n      <td>Entwodiksyon Nan Syans Done</td>\n      <td>1047613</td>\n      <td>0.000000</td>\n      <td>NaN</td>\n      <td>False</td>\n      <td>True</td>\n      <td>False</td>\n      <td>NaN</td>\n      <td>NaN</td>\n      <td>2020-12-21T14:45:06.528Z</td>\n      <td>NaN</td>\n    </tr>\n    <tr>\n      <th>...</th>\n      <td>...</td>\n      <td>...</td>\n      <td>...</td>\n      <td>...</td>\n      <td>...</td>\n      <td>...</td>\n      <td>...</td>\n      <td>...</td>\n      <td>...</td>\n      <td>...</td>\n      <td>...</td>\n      <td>...</td>\n      <td>...</td>\n      <td>...</td>\n      <td>...</td>\n    </tr>\n    <tr>\n      <th>143</th>\n      <td>143</td>\n      <td>2021-03-14T02:16:08.736Z</td>\n      <td>2071-03-02T02:16:55.000Z</td>\n      <td>41508160</td>\n      <td>Entwodiksyon Nan Syans Done</td>\n      <td>1047613</td>\n      <td>0.279070</td>\n      <td>NaN</td>\n      <td>False</td>\n      <td>False</td>\n      <td>False</td>\n      <td>2021-03-14T02:18:52.472Z</td>\n      <td>2021-03-14T02:16:08.000Z</td>\n      <td>2021-03-14T03:32:18.768Z</td>\n      <td>906b65e3-ce95-11eb-a294-7c67a234f601</td>\n    </tr>\n    <tr>\n      <th>144</th>\n      <td>144</td>\n      <td>2021-03-14T04:20:30.803Z</td>\n      <td>NaN</td>\n      <td>41564742</td>\n      <td>Entwodiksyon Nan Syans Done</td>\n      <td>1047613</td>\n      <td>0.023256</td>\n      <td>NaN</td>\n      <td>False</td>\n      <td>False</td>\n      <td>False</td>\n      <td>2021-03-14T04:22:12.626Z</td>\n      <td>2021-03-14T04:20:30.786Z</td>\n      <td>2021-03-14T04:48:39.798Z</td>\n      <td>906636cf-ce95-11eb-8679-7c67a234f601</td>\n    </tr>\n    <tr>\n      <th>145</th>\n      <td>145</td>\n      <td>2021-03-14T07:34:09.491Z</td>\n      <td>2071-03-02T07:34:26.000Z</td>\n      <td>41569249</td>\n      <td>Entwodiksyon Nan Syans Done</td>\n      <td>1047613</td>\n      <td>0.000000</td>\n      <td>NaN</td>\n      <td>False</td>\n      <td>False</td>\n      <td>False</td>\n      <td>NaN</td>\n      <td>2021-03-14T07:34:09.000Z</td>\n      <td>2021-03-14T07:34:26.558Z</td>\n      <td>906241d5-ce95-11eb-9850-7c67a234f601</td>\n    </tr>\n    <tr>\n      <th>146</th>\n      <td>146</td>\n      <td>2021-03-14T15:34:39.800Z</td>\n      <td>NaN</td>\n      <td>41587952</td>\n      <td>Entwodiksyon Nan Syans Done</td>\n      <td>1047613</td>\n      <td>0.325581</td>\n      <td>NaN</td>\n      <td>False</td>\n      <td>False</td>\n      <td>False</td>\n      <td>2021-03-14T15:34:56.007Z</td>\n      <td>2021-03-14T15:34:39.768Z</td>\n      <td>2021-03-14T17:30:53.379Z</td>\n      <td>906b3c86-ce95-11eb-b6a7-7c67a234f601</td>\n    </tr>\n    <tr>\n      <th>147</th>\n      <td>147</td>\n      <td>2021-03-14T17:34:44.861Z</td>\n      <td>2071-03-02T17:34:52.000Z</td>\n      <td>41592698</td>\n      <td>Entwodiksyon Nan Syans Done</td>\n      <td>1047613</td>\n      <td>0.046512</td>\n      <td>NaN</td>\n      <td>False</td>\n      <td>False</td>\n      <td>False</td>\n      <td>2021-03-14T17:36:13.505Z</td>\n      <td>2021-03-14T17:34:44.000Z</td>\n      <td>2021-03-14T17:39:40.547Z</td>\n      <td>NaN</td>\n    </tr>\n  </tbody>\n</table>\n<p>148 rows × 15 columns</p>\n</div>"
     },
     "metadata": {}
    },
    {
     "output_type": "error",
     "ename": "NameError",
     "evalue": "name 'df7' is not defined",
     "traceback": [
      "\u001b[1;31m---------------------------------------------------------------------------\u001b[0m",
      "\u001b[1;31mNameError\u001b[0m                                 Traceback (most recent call last)",
      "\u001b[1;32m<ipython-input-3-3a9cecc14ee0>\u001b[0m in \u001b[0;36m<module>\u001b[1;34m\u001b[0m\n\u001b[0;32m      2\u001b[0m \u001b[0mdisplay\u001b[0m\u001b[1;33m(\u001b[0m\u001b[0mdf\u001b[0m\u001b[1;33m)\u001b[0m\u001b[1;33m\u001b[0m\u001b[1;33m\u001b[0m\u001b[0m\n\u001b[0;32m      3\u001b[0m \u001b[0mdf2\u001b[0m \u001b[1;33m=\u001b[0m \u001b[0mpd\u001b[0m\u001b[1;33m.\u001b[0m\u001b[0mread_csv\u001b[0m\u001b[1;33m(\u001b[0m\u001b[1;34m\"industry.csv\"\u001b[0m\u001b[1;33m)\u001b[0m\u001b[1;33m\u001b[0m\u001b[1;33m\u001b[0m\u001b[0m\n\u001b[1;32m----> 4\u001b[1;33m \u001b[0mdisplay\u001b[0m\u001b[1;33m(\u001b[0m\u001b[0mdf7\u001b[0m\u001b[1;33m)\u001b[0m\u001b[1;33m\u001b[0m\u001b[1;33m\u001b[0m\u001b[0m\n\u001b[0m\u001b[0;32m      5\u001b[0m \u001b[0mdf3\u001b[0m \u001b[1;33m=\u001b[0m \u001b[0mpd\u001b[0m\u001b[1;33m.\u001b[0m\u001b[0mread_csv\u001b[0m\u001b[1;33m(\u001b[0m\u001b[1;34m\"ord.csv\"\u001b[0m\u001b[1;33m)\u001b[0m\u001b[1;33m\u001b[0m\u001b[1;33m\u001b[0m\u001b[0m\n\u001b[0;32m      6\u001b[0m \u001b[0mQuest\u001b[0m \u001b[1;33m=\u001b[0m  \u001b[0mpd\u001b[0m\u001b[1;33m.\u001b[0m\u001b[0mread_csv\u001b[0m\u001b[1;33m(\u001b[0m\u001b[1;34m\"quest.csv\"\u001b[0m\u001b[1;33m)\u001b[0m\u001b[1;33m\u001b[0m\u001b[1;33m\u001b[0m\u001b[0m\n",
      "\u001b[1;31mNameError\u001b[0m: name 'df7' is not defined"
     ]
    }
   ],
   "source": [
    "df = pd.read_csv(\"enroll.csv\")\n",
    "display(df)\n",
    "df2 = pd.read_csv(\"industry.csv\")\n",
    "display(df7)\n",
    "df3 = pd.read_csv(\"ord.csv\")\n",
    "Quest =  pd.read_csv(\"quest.csv\")\n",
    "df5  = pd.read_csv(\"study_domain.csv\")\n",
    "df6 =  pd.read_csv(\"technology.csv\")\n",
    "df7 =  pd.read_csv(\"transaction.csv\")\n",
    "Geo  = pd.read_excel('commune.xlsx', sheet_name= 0)"
   ]
  },
  {
   "cell_type": "code",
   "execution_count": 225,
   "metadata": {},
   "outputs": [
    {
     "output_type": "execute_result",
     "data": {
      "text/plain": [
       "(248, 22)"
      ]
     },
     "metadata": {},
     "execution_count": 225
    }
   ],
   "source": [
    "\n",
    "#print(df4.head())\n",
    "Quest['department'] = Quest['department'].apply(lambda x  : str(x))\n",
    "Quest['department']= Quest['department'].apply(lambda x : x.upper())\n",
    "Quest['commune']= Quest['commune'].apply(lambda x : x.upper())\n",
    "Quest\n",
    "\n",
    "table1 = pd.merge(Quest,Geo, how = 'inner',left_on =['department','commune'],right_on = ['ADM1_PCODE','Commune_Id'] )\n",
    "table1['department'].value_counts().sum()\n",
    "table1.shape\n"
   ]
  },
  {
   "cell_type": "code",
   "execution_count": 156,
   "metadata": {},
   "outputs": [
    {
     "output_type": "stream",
     "name": "stdout",
     "text": [
      "Index(['Unnamed: 0', 'gender', 'dob', 'commune', 'created_at', 'modified_at',\n       'department', 'education_level', 'university', 'study_domain',\n       'current_employed', 'formal_sector_job', 'have_computer_home',\n       'internet_at_home', 'hear_AA_1', 'after_AA', 'quest_id', 'Commune_en',\n       'Commune_FR', 'Commune_Id', 'Departement', 'ADM1_PCODE'],\n      dtype='object')\n"
     ]
    }
   ],
   "source": [
    "#table1.to_csv(r'C:\\Users\\valci\\Desktop\\table1.csv',index = False)\n",
    "print(table1.columns)"
   ]
  },
  {
   "cell_type": "code",
   "execution_count": 248,
   "metadata": {},
   "outputs": [],
   "source": [
    "\n",
    "#y = pd.DataFrame(table1.created_at.str.split('T',1).tolist(),\n",
    "                         #columns = ['Date_created_at','To_drop'])\n",
    "#print(np.round(table1.internet_at_home.value_counts(normalize =True),2)*100)\n",
    "#print(np.round(table1.have_computer_home.value_counts(normalize =True),2)*100)\n",
    "#np.round(table1.study_domain.value_counts(normalize =True),2)*100\n",
    "table2 = pd.merge(table1,df5, how = 'inner',left_on =['quest_id'],right_on = ['quest_id'] )\n",
    "table2.to_csv(r'C:\\Users\\valci\\Desktop\\Projet Data Processing\\table2.csv',index = False)\n"
   ]
  },
  {
   "cell_type": "code",
   "execution_count": null,
   "metadata": {},
   "outputs": [],
   "source": []
  },
  {
   "cell_type": "code",
   "execution_count": null,
   "metadata": {},
   "outputs": [],
   "source": []
  }
 ],
 "metadata": {
  "interpreter": {
   "hash": "92bd0ae6912c649d295ec8fdde72501389ab96229fa2eaef97fff48b65196f4b"
  },
  "kernelspec": {
   "name": "python3",
   "display_name": "Python 3.8.5 64-bit ('base': conda)"
  },
  "language_info": {
   "codemirror_mode": {
    "name": "ipython",
    "version": 3
   },
   "file_extension": ".py",
   "mimetype": "text/x-python",
   "name": "python",
   "nbconvert_exporter": "python",
   "pygments_lexer": "ipython3",
   "version": "3.8.5"
  }
 },
 "nbformat": 4,
 "nbformat_minor": 2
}