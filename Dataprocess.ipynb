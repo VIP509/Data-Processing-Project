{
 "cells": [
  {
   "cell_type": "code",
   "execution_count": null,
   "metadata": {},
   "outputs": [],
   "source": []
  },
  {
   "cell_type": "code",
   "execution_count": 1,
   "metadata": {},
   "outputs": [],
   "source": [
    "import numpy as np\n",
    "import pandas as pd\n",
    "import matplotlib.pyplot as plt\n",
    "import seaborn as sns\n",
    "\n"
   ]
  },
  {
   "cell_type": "markdown",
   "metadata": {},
   "source": [
    "# Ayiti Analytics Data Processing Bootcamp\n",
    "Ayiti Analytics Data wants to expand its training centers throughout all the communes of the country. Your role as a data analyst is to help them realize this dream.\n",
    "\n",
    "Its objective is to know which three communes of the country will be the most likely to expand its training centers.\n",
    "\n",
    "Knowing that each cohort must have 30 students\n",
    " \n",
    "* How many applications must be made to select 25% women for each on average\n",
    "\n",
    "* What are the most effective communication channels (Alumni, Facebook, WhatsApp, Friend ...) that will allow a student to be susceptible to selection\n",
    " \n",
    "* What is the average number of university students who should participate in this program\n",
    "* What will be the average number of applications per week that we could have\n",
    "* How many weeks should we extend the application process to select 60 students per commune?\n",
    "* If we were to do all the bootcamp online, who would be the best communes and how many applications would we need to select 30 student and what percentage of students would have a laptop, an internet connection, both at the same time\n",
    "* What are the most effective communication channels (Alumni, Facebook, WhatsApp, Friend ...) that will allow a women to be susceptible to selection\n",
    "\n",
    "### NB \n",
    "Use the same framework of the BA project to complete this project\n"
   ]
  },
  {
   "cell_type": "code",
   "execution_count": 265,
   "metadata": {},
   "outputs": [
    {
     "output_type": "display_data",
     "data": {
      "text/plain": "     Unnamed: 0                created_at               expiry_date   user_id  \\\n0             0  2020-12-12T06:41:29.844Z                       NaN  29816173   \n1             1  2020-12-13T14:41:17.720Z                       NaN  35229766   \n2             2  2020-12-15T00:53:06.499Z                       NaN  31987560   \n3             3  2020-12-18T18:38:55.683Z                       NaN  35616451   \n4             4  2020-12-21T14:45:06.528Z                       NaN  35390649   \n..          ...                       ...                       ...       ...   \n143         143  2021-03-14T02:16:08.736Z  2071-03-02T02:16:55.000Z  41508160   \n144         144  2021-03-14T04:20:30.803Z                       NaN  41564742   \n145         145  2021-03-14T07:34:09.491Z  2071-03-02T07:34:26.000Z  41569249   \n146         146  2021-03-14T15:34:39.800Z                       NaN  41587952   \n147         147  2021-03-14T17:34:44.861Z  2071-03-02T17:34:52.000Z  41592698   \n\n                     course_name  course_id  percentage_completed  \\\n0    Entwodiksyon Nan Syans Done    1047613              0.000000   \n1    Entwodiksyon Nan Syans Done    1047613              0.000000   \n2    Entwodiksyon Nan Syans Done    1047613              0.000000   \n3    Entwodiksyon Nan Syans Done    1047613              0.000000   \n4    Entwodiksyon Nan Syans Done    1047613              0.000000   \n..                           ...        ...                   ...   \n143  Entwodiksyon Nan Syans Done    1047613              0.279070   \n144  Entwodiksyon Nan Syans Done    1047613              0.023256   \n145  Entwodiksyon Nan Syans Done    1047613              0.000000   \n146  Entwodiksyon Nan Syans Done    1047613              0.325581   \n147  Entwodiksyon Nan Syans Done    1047613              0.046512   \n\n     completed_at  expired  is_free_trial  completed  \\\n0             NaN    False           True      False   \n1             NaN    False           True      False   \n2             NaN    False           True      False   \n3             NaN    False           True      False   \n4             NaN    False           True      False   \n..            ...      ...            ...        ...   \n143           NaN    False          False      False   \n144           NaN    False          False      False   \n145           NaN    False          False      False   \n146           NaN    False          False      False   \n147           NaN    False          False      False   \n\n                   started_at              activated_at  \\\n0                         NaN                       NaN   \n1                         NaN                       NaN   \n2                         NaN                       NaN   \n3                         NaN                       NaN   \n4                         NaN                       NaN   \n..                        ...                       ...   \n143  2021-03-14T02:18:52.472Z  2021-03-14T02:16:08.000Z   \n144  2021-03-14T04:22:12.626Z  2021-03-14T04:20:30.786Z   \n145                       NaN  2021-03-14T07:34:09.000Z   \n146  2021-03-14T15:34:56.007Z  2021-03-14T15:34:39.768Z   \n147  2021-03-14T17:36:13.505Z  2021-03-14T17:34:44.000Z   \n\n                   updated_at                              quest_id  \n0    2020-12-12T06:41:29.844Z                                   NaN  \n1    2020-12-13T14:41:17.720Z                                   NaN  \n2    2020-12-15T00:53:06.499Z                                   NaN  \n3    2020-12-18T18:38:55.683Z                                   NaN  \n4    2020-12-21T14:45:06.528Z                                   NaN  \n..                        ...                                   ...  \n143  2021-03-14T03:32:18.768Z  906b65e3-ce95-11eb-a294-7c67a234f601  \n144  2021-03-14T04:48:39.798Z  906636cf-ce95-11eb-8679-7c67a234f601  \n145  2021-03-14T07:34:26.558Z  906241d5-ce95-11eb-9850-7c67a234f601  \n146  2021-03-14T17:30:53.379Z  906b3c86-ce95-11eb-b6a7-7c67a234f601  \n147  2021-03-14T17:39:40.547Z                                   NaN  \n\n[148 rows x 15 columns]",
      "text/html": "<div>\n<style scoped>\n    .dataframe tbody tr th:only-of-type {\n        vertical-align: middle;\n    }\n\n    .dataframe tbody tr th {\n        vertical-align: top;\n    }\n\n    .dataframe thead th {\n        text-align: right;\n    }\n</style>\n<table border=\"1\" class=\"dataframe\">\n  <thead>\n    <tr style=\"text-align: right;\">\n      <th></th>\n      <th>Unnamed: 0</th>\n      <th>created_at</th>\n      <th>expiry_date</th>\n      <th>user_id</th>\n      <th>course_name</th>\n      <th>course_id</th>\n      <th>percentage_completed</th>\n      <th>completed_at</th>\n      <th>expired</th>\n      <th>is_free_trial</th>\n      <th>completed</th>\n      <th>started_at</th>\n      <th>activated_at</th>\n      <th>updated_at</th>\n      <th>quest_id</th>\n    </tr>\n  </thead>\n  <tbody>\n    <tr>\n      <th>0</th>\n      <td>0</td>\n      <td>2020-12-12T06:41:29.844Z</td>\n      <td>NaN</td>\n      <td>29816173</td>\n      <td>Entwodiksyon Nan Syans Done</td>\n      <td>1047613</td>\n      <td>0.000000</td>\n      <td>NaN</td>\n      <td>False</td>\n      <td>True</td>\n      <td>False</td>\n      <td>NaN</td>\n      <td>NaN</td>\n      <td>2020-12-12T06:41:29.844Z</td>\n      <td>NaN</td>\n    </tr>\n    <tr>\n      <th>1</th>\n      <td>1</td>\n      <td>2020-12-13T14:41:17.720Z</td>\n      <td>NaN</td>\n      <td>35229766</td>\n      <td>Entwodiksyon Nan Syans Done</td>\n      <td>1047613</td>\n      <td>0.000000</td>\n      <td>NaN</td>\n      <td>False</td>\n      <td>True</td>\n      <td>False</td>\n      <td>NaN</td>\n      <td>NaN</td>\n      <td>2020-12-13T14:41:17.720Z</td>\n      <td>NaN</td>\n    </tr>\n    <tr>\n      <th>2</th>\n      <td>2</td>\n      <td>2020-12-15T00:53:06.499Z</td>\n      <td>NaN</td>\n      <td>31987560</td>\n      <td>Entwodiksyon Nan Syans Done</td>\n      <td>1047613</td>\n      <td>0.000000</td>\n      <td>NaN</td>\n      <td>False</td>\n      <td>True</td>\n      <td>False</td>\n      <td>NaN</td>\n      <td>NaN</td>\n      <td>2020-12-15T00:53:06.499Z</td>\n      <td>NaN</td>\n    </tr>\n    <tr>\n      <th>3</th>\n      <td>3</td>\n      <td>2020-12-18T18:38:55.683Z</td>\n      <td>NaN</td>\n      <td>35616451</td>\n      <td>Entwodiksyon Nan Syans Done</td>\n      <td>1047613</td>\n      <td>0.000000</td>\n      <td>NaN</td>\n      <td>False</td>\n      <td>True</td>\n      <td>False</td>\n      <td>NaN</td>\n      <td>NaN</td>\n      <td>2020-12-18T18:38:55.683Z</td>\n      <td>NaN</td>\n    </tr>\n    <tr>\n      <th>4</th>\n      <td>4</td>\n      <td>2020-12-21T14:45:06.528Z</td>\n      <td>NaN</td>\n      <td>35390649</td>\n      <td>Entwodiksyon Nan Syans Done</td>\n      <td>1047613</td>\n      <td>0.000000</td>\n      <td>NaN</td>\n      <td>False</td>\n      <td>True</td>\n      <td>False</td>\n      <td>NaN</td>\n      <td>NaN</td>\n      <td>2020-12-21T14:45:06.528Z</td>\n      <td>NaN</td>\n    </tr>\n    <tr>\n      <th>...</th>\n      <td>...</td>\n      <td>...</td>\n      <td>...</td>\n      <td>...</td>\n      <td>...</td>\n      <td>...</td>\n      <td>...</td>\n      <td>...</td>\n      <td>...</td>\n      <td>...</td>\n      <td>...</td>\n      <td>...</td>\n      <td>...</td>\n      <td>...</td>\n      <td>...</td>\n    </tr>\n    <tr>\n      <th>143</th>\n      <td>143</td>\n      <td>2021-03-14T02:16:08.736Z</td>\n      <td>2071-03-02T02:16:55.000Z</td>\n      <td>41508160</td>\n      <td>Entwodiksyon Nan Syans Done</td>\n      <td>1047613</td>\n      <td>0.279070</td>\n      <td>NaN</td>\n      <td>False</td>\n      <td>False</td>\n      <td>False</td>\n      <td>2021-03-14T02:18:52.472Z</td>\n      <td>2021-03-14T02:16:08.000Z</td>\n      <td>2021-03-14T03:32:18.768Z</td>\n      <td>906b65e3-ce95-11eb-a294-7c67a234f601</td>\n    </tr>\n    <tr>\n      <th>144</th>\n      <td>144</td>\n      <td>2021-03-14T04:20:30.803Z</td>\n      <td>NaN</td>\n      <td>41564742</td>\n      <td>Entwodiksyon Nan Syans Done</td>\n      <td>1047613</td>\n      <td>0.023256</td>\n      <td>NaN</td>\n      <td>False</td>\n      <td>False</td>\n      <td>False</td>\n      <td>2021-03-14T04:22:12.626Z</td>\n      <td>2021-03-14T04:20:30.786Z</td>\n      <td>2021-03-14T04:48:39.798Z</td>\n      <td>906636cf-ce95-11eb-8679-7c67a234f601</td>\n    </tr>\n    <tr>\n      <th>145</th>\n      <td>145</td>\n      <td>2021-03-14T07:34:09.491Z</td>\n      <td>2071-03-02T07:34:26.000Z</td>\n      <td>41569249</td>\n      <td>Entwodiksyon Nan Syans Done</td>\n      <td>1047613</td>\n      <td>0.000000</td>\n      <td>NaN</td>\n      <td>False</td>\n      <td>False</td>\n      <td>False</td>\n      <td>NaN</td>\n      <td>2021-03-14T07:34:09.000Z</td>\n      <td>2021-03-14T07:34:26.558Z</td>\n      <td>906241d5-ce95-11eb-9850-7c67a234f601</td>\n    </tr>\n    <tr>\n      <th>146</th>\n      <td>146</td>\n      <td>2021-03-14T15:34:39.800Z</td>\n      <td>NaN</td>\n      <td>41587952</td>\n      <td>Entwodiksyon Nan Syans Done</td>\n      <td>1047613</td>\n      <td>0.325581</td>\n      <td>NaN</td>\n      <td>False</td>\n      <td>False</td>\n      <td>False</td>\n      <td>2021-03-14T15:34:56.007Z</td>\n      <td>2021-03-14T15:34:39.768Z</td>\n      <td>2021-03-14T17:30:53.379Z</td>\n      <td>906b3c86-ce95-11eb-b6a7-7c67a234f601</td>\n    </tr>\n    <tr>\n      <th>147</th>\n      <td>147</td>\n      <td>2021-03-14T17:34:44.861Z</td>\n      <td>2071-03-02T17:34:52.000Z</td>\n      <td>41592698</td>\n      <td>Entwodiksyon Nan Syans Done</td>\n      <td>1047613</td>\n      <td>0.046512</td>\n      <td>NaN</td>\n      <td>False</td>\n      <td>False</td>\n      <td>False</td>\n      <td>2021-03-14T17:36:13.505Z</td>\n      <td>2021-03-14T17:34:44.000Z</td>\n      <td>2021-03-14T17:39:40.547Z</td>\n      <td>NaN</td>\n    </tr>\n  </tbody>\n</table>\n<p>148 rows × 15 columns</p>\n</div>"
     },
     "metadata": {}
    },
    {
     "output_type": "display_data",
     "data": {
      "text/plain": "    Unnamed: 0                created_at               modified_at   user_id  \\\n0            0  2021-03-08T05:08:50.832Z  2021-03-08T05:08:50.832Z  40976440   \n1            1  2021-03-08T17:26:35.841Z  2021-03-08T17:26:35.841Z  41179271   \n2            2  2021-03-08T18:52:09.147Z  2021-03-08T18:52:09.147Z  40973512   \n3            3  2021-03-08T19:06:32.837Z  2021-03-08T19:06:32.837Z  41177453   \n4            4  2021-03-08T22:10:00.796Z  2021-03-08T22:10:00.796Z  40797121   \n5            5  2021-03-09T07:44:32.357Z  2021-03-09T07:44:32.357Z  40945919   \n6            6  2021-03-09T16:23:41.405Z  2021-03-09T16:23:41.405Z  41248647   \n7            7  2021-03-11T17:21:09.148Z  2021-03-11T17:21:09.148Z  41333642   \n8            8  2021-03-11T18:17:56.004Z  2021-03-11T18:17:56.004Z  40330391   \n9            9  2021-03-11T19:32:08.362Z  2021-03-11T19:32:08.362Z  41419993   \n10          10  2021-03-12T16:40:47.723Z  2021-03-12T16:40:47.723Z  41488437   \n11          11  2021-02-21T19:46:22.624Z  2021-02-21T19:46:22.624Z  39850932   \n12          12  2021-02-23T20:50:47.515Z  2021-02-23T20:50:47.515Z  40278636   \n13          13  2021-02-24T14:54:21.891Z  2021-02-24T14:54:21.891Z  40124696   \n14          14  2021-02-24T14:49:19.752Z  2021-02-24T14:49:19.752Z  40153476   \n15          15  2021-02-22T17:29:44.762Z  2021-02-22T17:29:44.762Z  39861802   \n16          16  2021-02-20T22:56:24.236Z  2021-02-20T22:56:24.236Z  40120992   \n17          17  2021-02-22T17:12:27.102Z  2021-02-22T17:12:27.102Z  39064047   \n18          18  2021-02-24T14:42:56.637Z  2021-02-24T14:42:56.637Z  40276263   \n19          19  2021-02-21T16:00:55.063Z  2021-02-21T16:00:55.063Z  40061075   \n20          20  2021-02-21T15:55:59.689Z  2021-02-21T15:55:59.689Z  40060952   \n21          21  2021-02-23T02:02:23.482Z  2021-02-23T02:02:23.482Z  39880696   \n22          22  2021-02-21T21:51:56.290Z  2021-02-21T21:51:56.290Z  40163962   \n23          23  2021-02-21T06:03:46.665Z  2021-02-21T06:03:46.665Z  40132216   \n24          24  2021-02-20T12:25:24.229Z  2021-02-20T12:25:24.229Z  39997346   \n25          25  2021-02-24T15:38:34.262Z  2021-02-24T15:38:34.262Z  39980083   \n26          26  2021-02-24T01:16:40.567Z  2021-02-24T01:16:40.567Z  40308616   \n27          27  2021-02-23T15:55:16.310Z  2021-02-23T15:55:16.310Z  39938142   \n28          28  2021-02-18T14:04:48.071Z  2021-02-18T14:04:48.071Z  39971926   \n29          29      2021-02-16T14:04:48Z      2021-02-16T14:04:48Z  39845142   \n30          30  2021-02-19T00:47:03.242Z  2021-02-19T00:47:03.242Z  40009010   \n31          31  2021-02-18T15:21:09.568Z  2021-02-18T15:21:09.568Z  39976529   \n32          32      2021-02-16T14:04:48Z      2021-02-16T14:04:48Z  39844839   \n33          33  2021-02-18T22:06:50.519Z  2021-02-18T22:06:50.519Z  39992231   \n34          34      2021-02-12T14:04:48Z      2021-02-12T14:04:48Z  39181155   \n35          35  2021-02-24T16:53:17.136Z  2021-02-24T16:53:17.136Z  39944179   \n36          36  2021-02-24T19:23:15.135Z  2021-02-24T19:23:15.135Z  40218975   \n37          37  2021-02-24T19:37:18.806Z  2021-02-24T19:37:18.806Z  40363382   \n38          38  2021-02-25T23:57:16.634Z  2021-02-25T23:57:16.634Z  40299599   \n39          39  2021-02-27T20:01:27.976Z  2021-02-27T20:01:27.976Z  40551114   \n40          40  2021-02-28T22:23:17.083Z  2021-02-28T22:23:17.083Z  40487386   \n41          41  2021-03-02T02:49:24.780Z  2021-03-02T02:49:24.780Z  40690080   \n42          42  2021-03-02T18:53:20.759Z  2021-03-02T18:53:20.759Z  40734954   \n43          43  2021-03-02T21:28:21.815Z  2021-03-02T21:28:21.815Z  40387704   \n44          44  2021-03-03T01:00:21.024Z  2021-03-03T01:00:21.024Z  40757540   \n45          45  2021-03-03T13:38:57.368Z  2021-03-03T13:38:57.368Z  40577040   \n46          46  2021-03-03T14:38:09.225Z  2021-03-03T14:38:09.225Z  40796608   \n47          47  2021-03-03T23:00:11.974Z  2021-03-03T23:00:11.974Z  40117659   \n48          48  2021-03-04T02:08:06.582Z  2021-03-04T02:08:06.582Z  30768016   \n49          49  2021-03-04T18:01:35.651Z  2021-03-04T18:01:35.651Z  40878059   \n50          50  2021-03-05T21:34:14.240Z  2021-03-05T21:34:14.240Z  40893642   \n51          51  2021-03-05T21:49:43.238Z  2021-03-05T21:49:43.238Z  40968395   \n52          52  2021-03-07T12:43:08.911Z  2021-03-07T12:43:08.911Z  40336912   \n53          53  2021-03-12T20:25:22.517Z  2021-03-12T20:25:22.517Z  41504542   \n54          54  2021-03-12T20:33:14.700Z  2021-03-12T20:33:14.700Z  40618692   \n55          55  2021-03-13T00:48:13.726Z  2021-03-13T00:48:13.726Z  40008926   \n56          56  2021-03-13T03:54:12.406Z  2021-03-13T03:54:12.406Z  41328544   \n57          57  2021-03-14T02:16:08.983Z  2021-03-14T02:16:08.983Z  41508160   \n58          58  2021-03-14T07:34:09.638Z  2021-03-14T07:34:09.638Z  41569249   \n59          59  2021-03-14T17:34:45.179Z  2021-03-14T17:34:45.179Z  41592698   \n\n    course_id  transaction_id  \n0     1047613      4641281952  \n1     1047613      4644270160  \n2     1047613      4645070622  \n3     1047613      4645208830  \n4     1047613      4646815401  \n5     1047613      4648325979  \n6     1047613      4650676650  \n7     1047613      4665042726  \n8     1047613      4665556563  \n9     1047613      4666210087  \n10    1047613      4672024723  \n11    1047613      4545006966  \n12    1047613      4558468119  \n13    1047613      4562002117  \n14    1047613      4561955778  \n15    1047613      4549626238  \n16    1047613      4540787244  \n17    1047613      4549469210  \n18    1047613      4561895692  \n19    1047613      4543672736  \n20    1047613      4543640692  \n21    1047613      4553482852  \n22    1047613      4545549167  \n23    1047613      4542152165  \n24    1047613      4535107494  \n25    1047613      4562414243  \n26    1047613      4560104122  \n27    1047613      4555830382  \n28    1047613      4520856112  \n29    1047613      4510392325  \n30    1047613      4526741062  \n31    1047613      4521618520  \n32    1047613      4510094932  \n33    1047613      4525710654  \n34    1047613      4487723500  \n35    1047613      4563085912  \n36    1047613      4564385707  \n37    1047613      4564503261  \n38    1047613      4573740021  \n39    1047613      4586001394  \n40    1047613      4592358324  \n41    1047613      4600622901  \n42    1047613      4604565067  \n43    1047613      4605945442  \n44    1047613      4607332150  \n45    1047613      4608735868  \n46    1047613      4609291580  \n47    1047613      4613706593  \n48    1047613      4614708197  \n49    1047613      4618323945  \n50    1047613      4626944100  \n51    1047613      4627055633  \n52    1047613      4636816588  \n53    1047613      4674188074  \n54    1047613      4674266385  \n55    1047613      4676272962  \n56    1047613      4676841317  \n57    1047613      4684296558  \n58    1047613      4684607655  \n59    1047613      4687103864  ",
      "text/html": "<div>\n<style scoped>\n    .dataframe tbody tr th:only-of-type {\n        vertical-align: middle;\n    }\n\n    .dataframe tbody tr th {\n        vertical-align: top;\n    }\n\n    .dataframe thead th {\n        text-align: right;\n    }\n</style>\n<table border=\"1\" class=\"dataframe\">\n  <thead>\n    <tr style=\"text-align: right;\">\n      <th></th>\n      <th>Unnamed: 0</th>\n      <th>created_at</th>\n      <th>modified_at</th>\n      <th>user_id</th>\n      <th>course_id</th>\n      <th>transaction_id</th>\n    </tr>\n  </thead>\n  <tbody>\n    <tr>\n      <th>0</th>\n      <td>0</td>\n      <td>2021-03-08T05:08:50.832Z</td>\n      <td>2021-03-08T05:08:50.832Z</td>\n      <td>40976440</td>\n      <td>1047613</td>\n      <td>4641281952</td>\n    </tr>\n    <tr>\n      <th>1</th>\n      <td>1</td>\n      <td>2021-03-08T17:26:35.841Z</td>\n      <td>2021-03-08T17:26:35.841Z</td>\n      <td>41179271</td>\n      <td>1047613</td>\n      <td>4644270160</td>\n    </tr>\n    <tr>\n      <th>2</th>\n      <td>2</td>\n      <td>2021-03-08T18:52:09.147Z</td>\n      <td>2021-03-08T18:52:09.147Z</td>\n      <td>40973512</td>\n      <td>1047613</td>\n      <td>4645070622</td>\n    </tr>\n    <tr>\n      <th>3</th>\n      <td>3</td>\n      <td>2021-03-08T19:06:32.837Z</td>\n      <td>2021-03-08T19:06:32.837Z</td>\n      <td>41177453</td>\n      <td>1047613</td>\n      <td>4645208830</td>\n    </tr>\n    <tr>\n      <th>4</th>\n      <td>4</td>\n      <td>2021-03-08T22:10:00.796Z</td>\n      <td>2021-03-08T22:10:00.796Z</td>\n      <td>40797121</td>\n      <td>1047613</td>\n      <td>4646815401</td>\n    </tr>\n    <tr>\n      <th>5</th>\n      <td>5</td>\n      <td>2021-03-09T07:44:32.357Z</td>\n      <td>2021-03-09T07:44:32.357Z</td>\n      <td>40945919</td>\n      <td>1047613</td>\n      <td>4648325979</td>\n    </tr>\n    <tr>\n      <th>6</th>\n      <td>6</td>\n      <td>2021-03-09T16:23:41.405Z</td>\n      <td>2021-03-09T16:23:41.405Z</td>\n      <td>41248647</td>\n      <td>1047613</td>\n      <td>4650676650</td>\n    </tr>\n    <tr>\n      <th>7</th>\n      <td>7</td>\n      <td>2021-03-11T17:21:09.148Z</td>\n      <td>2021-03-11T17:21:09.148Z</td>\n      <td>41333642</td>\n      <td>1047613</td>\n      <td>4665042726</td>\n    </tr>\n    <tr>\n      <th>8</th>\n      <td>8</td>\n      <td>2021-03-11T18:17:56.004Z</td>\n      <td>2021-03-11T18:17:56.004Z</td>\n      <td>40330391</td>\n      <td>1047613</td>\n      <td>4665556563</td>\n    </tr>\n    <tr>\n      <th>9</th>\n      <td>9</td>\n      <td>2021-03-11T19:32:08.362Z</td>\n      <td>2021-03-11T19:32:08.362Z</td>\n      <td>41419993</td>\n      <td>1047613</td>\n      <td>4666210087</td>\n    </tr>\n    <tr>\n      <th>10</th>\n      <td>10</td>\n      <td>2021-03-12T16:40:47.723Z</td>\n      <td>2021-03-12T16:40:47.723Z</td>\n      <td>41488437</td>\n      <td>1047613</td>\n      <td>4672024723</td>\n    </tr>\n    <tr>\n      <th>11</th>\n      <td>11</td>\n      <td>2021-02-21T19:46:22.624Z</td>\n      <td>2021-02-21T19:46:22.624Z</td>\n      <td>39850932</td>\n      <td>1047613</td>\n      <td>4545006966</td>\n    </tr>\n    <tr>\n      <th>12</th>\n      <td>12</td>\n      <td>2021-02-23T20:50:47.515Z</td>\n      <td>2021-02-23T20:50:47.515Z</td>\n      <td>40278636</td>\n      <td>1047613</td>\n      <td>4558468119</td>\n    </tr>\n    <tr>\n      <th>13</th>\n      <td>13</td>\n      <td>2021-02-24T14:54:21.891Z</td>\n      <td>2021-02-24T14:54:21.891Z</td>\n      <td>40124696</td>\n      <td>1047613</td>\n      <td>4562002117</td>\n    </tr>\n    <tr>\n      <th>14</th>\n      <td>14</td>\n      <td>2021-02-24T14:49:19.752Z</td>\n      <td>2021-02-24T14:49:19.752Z</td>\n      <td>40153476</td>\n      <td>1047613</td>\n      <td>4561955778</td>\n    </tr>\n    <tr>\n      <th>15</th>\n      <td>15</td>\n      <td>2021-02-22T17:29:44.762Z</td>\n      <td>2021-02-22T17:29:44.762Z</td>\n      <td>39861802</td>\n      <td>1047613</td>\n      <td>4549626238</td>\n    </tr>\n    <tr>\n      <th>16</th>\n      <td>16</td>\n      <td>2021-02-20T22:56:24.236Z</td>\n      <td>2021-02-20T22:56:24.236Z</td>\n      <td>40120992</td>\n      <td>1047613</td>\n      <td>4540787244</td>\n    </tr>\n    <tr>\n      <th>17</th>\n      <td>17</td>\n      <td>2021-02-22T17:12:27.102Z</td>\n      <td>2021-02-22T17:12:27.102Z</td>\n      <td>39064047</td>\n      <td>1047613</td>\n      <td>4549469210</td>\n    </tr>\n    <tr>\n      <th>18</th>\n      <td>18</td>\n      <td>2021-02-24T14:42:56.637Z</td>\n      <td>2021-02-24T14:42:56.637Z</td>\n      <td>40276263</td>\n      <td>1047613</td>\n      <td>4561895692</td>\n    </tr>\n    <tr>\n      <th>19</th>\n      <td>19</td>\n      <td>2021-02-21T16:00:55.063Z</td>\n      <td>2021-02-21T16:00:55.063Z</td>\n      <td>40061075</td>\n      <td>1047613</td>\n      <td>4543672736</td>\n    </tr>\n    <tr>\n      <th>20</th>\n      <td>20</td>\n      <td>2021-02-21T15:55:59.689Z</td>\n      <td>2021-02-21T15:55:59.689Z</td>\n      <td>40060952</td>\n      <td>1047613</td>\n      <td>4543640692</td>\n    </tr>\n    <tr>\n      <th>21</th>\n      <td>21</td>\n      <td>2021-02-23T02:02:23.482Z</td>\n      <td>2021-02-23T02:02:23.482Z</td>\n      <td>39880696</td>\n      <td>1047613</td>\n      <td>4553482852</td>\n    </tr>\n    <tr>\n      <th>22</th>\n      <td>22</td>\n      <td>2021-02-21T21:51:56.290Z</td>\n      <td>2021-02-21T21:51:56.290Z</td>\n      <td>40163962</td>\n      <td>1047613</td>\n      <td>4545549167</td>\n    </tr>\n    <tr>\n      <th>23</th>\n      <td>23</td>\n      <td>2021-02-21T06:03:46.665Z</td>\n      <td>2021-02-21T06:03:46.665Z</td>\n      <td>40132216</td>\n      <td>1047613</td>\n      <td>4542152165</td>\n    </tr>\n    <tr>\n      <th>24</th>\n      <td>24</td>\n      <td>2021-02-20T12:25:24.229Z</td>\n      <td>2021-02-20T12:25:24.229Z</td>\n      <td>39997346</td>\n      <td>1047613</td>\n      <td>4535107494</td>\n    </tr>\n    <tr>\n      <th>25</th>\n      <td>25</td>\n      <td>2021-02-24T15:38:34.262Z</td>\n      <td>2021-02-24T15:38:34.262Z</td>\n      <td>39980083</td>\n      <td>1047613</td>\n      <td>4562414243</td>\n    </tr>\n    <tr>\n      <th>26</th>\n      <td>26</td>\n      <td>2021-02-24T01:16:40.567Z</td>\n      <td>2021-02-24T01:16:40.567Z</td>\n      <td>40308616</td>\n      <td>1047613</td>\n      <td>4560104122</td>\n    </tr>\n    <tr>\n      <th>27</th>\n      <td>27</td>\n      <td>2021-02-23T15:55:16.310Z</td>\n      <td>2021-02-23T15:55:16.310Z</td>\n      <td>39938142</td>\n      <td>1047613</td>\n      <td>4555830382</td>\n    </tr>\n    <tr>\n      <th>28</th>\n      <td>28</td>\n      <td>2021-02-18T14:04:48.071Z</td>\n      <td>2021-02-18T14:04:48.071Z</td>\n      <td>39971926</td>\n      <td>1047613</td>\n      <td>4520856112</td>\n    </tr>\n    <tr>\n      <th>29</th>\n      <td>29</td>\n      <td>2021-02-16T14:04:48Z</td>\n      <td>2021-02-16T14:04:48Z</td>\n      <td>39845142</td>\n      <td>1047613</td>\n      <td>4510392325</td>\n    </tr>\n    <tr>\n      <th>30</th>\n      <td>30</td>\n      <td>2021-02-19T00:47:03.242Z</td>\n      <td>2021-02-19T00:47:03.242Z</td>\n      <td>40009010</td>\n      <td>1047613</td>\n      <td>4526741062</td>\n    </tr>\n    <tr>\n      <th>31</th>\n      <td>31</td>\n      <td>2021-02-18T15:21:09.568Z</td>\n      <td>2021-02-18T15:21:09.568Z</td>\n      <td>39976529</td>\n      <td>1047613</td>\n      <td>4521618520</td>\n    </tr>\n    <tr>\n      <th>32</th>\n      <td>32</td>\n      <td>2021-02-16T14:04:48Z</td>\n      <td>2021-02-16T14:04:48Z</td>\n      <td>39844839</td>\n      <td>1047613</td>\n      <td>4510094932</td>\n    </tr>\n    <tr>\n      <th>33</th>\n      <td>33</td>\n      <td>2021-02-18T22:06:50.519Z</td>\n      <td>2021-02-18T22:06:50.519Z</td>\n      <td>39992231</td>\n      <td>1047613</td>\n      <td>4525710654</td>\n    </tr>\n    <tr>\n      <th>34</th>\n      <td>34</td>\n      <td>2021-02-12T14:04:48Z</td>\n      <td>2021-02-12T14:04:48Z</td>\n      <td>39181155</td>\n      <td>1047613</td>\n      <td>4487723500</td>\n    </tr>\n    <tr>\n      <th>35</th>\n      <td>35</td>\n      <td>2021-02-24T16:53:17.136Z</td>\n      <td>2021-02-24T16:53:17.136Z</td>\n      <td>39944179</td>\n      <td>1047613</td>\n      <td>4563085912</td>\n    </tr>\n    <tr>\n      <th>36</th>\n      <td>36</td>\n      <td>2021-02-24T19:23:15.135Z</td>\n      <td>2021-02-24T19:23:15.135Z</td>\n      <td>40218975</td>\n      <td>1047613</td>\n      <td>4564385707</td>\n    </tr>\n    <tr>\n      <th>37</th>\n      <td>37</td>\n      <td>2021-02-24T19:37:18.806Z</td>\n      <td>2021-02-24T19:37:18.806Z</td>\n      <td>40363382</td>\n      <td>1047613</td>\n      <td>4564503261</td>\n    </tr>\n    <tr>\n      <th>38</th>\n      <td>38</td>\n      <td>2021-02-25T23:57:16.634Z</td>\n      <td>2021-02-25T23:57:16.634Z</td>\n      <td>40299599</td>\n      <td>1047613</td>\n      <td>4573740021</td>\n    </tr>\n    <tr>\n      <th>39</th>\n      <td>39</td>\n      <td>2021-02-27T20:01:27.976Z</td>\n      <td>2021-02-27T20:01:27.976Z</td>\n      <td>40551114</td>\n      <td>1047613</td>\n      <td>4586001394</td>\n    </tr>\n    <tr>\n      <th>40</th>\n      <td>40</td>\n      <td>2021-02-28T22:23:17.083Z</td>\n      <td>2021-02-28T22:23:17.083Z</td>\n      <td>40487386</td>\n      <td>1047613</td>\n      <td>4592358324</td>\n    </tr>\n    <tr>\n      <th>41</th>\n      <td>41</td>\n      <td>2021-03-02T02:49:24.780Z</td>\n      <td>2021-03-02T02:49:24.780Z</td>\n      <td>40690080</td>\n      <td>1047613</td>\n      <td>4600622901</td>\n    </tr>\n    <tr>\n      <th>42</th>\n      <td>42</td>\n      <td>2021-03-02T18:53:20.759Z</td>\n      <td>2021-03-02T18:53:20.759Z</td>\n      <td>40734954</td>\n      <td>1047613</td>\n      <td>4604565067</td>\n    </tr>\n    <tr>\n      <th>43</th>\n      <td>43</td>\n      <td>2021-03-02T21:28:21.815Z</td>\n      <td>2021-03-02T21:28:21.815Z</td>\n      <td>40387704</td>\n      <td>1047613</td>\n      <td>4605945442</td>\n    </tr>\n    <tr>\n      <th>44</th>\n      <td>44</td>\n      <td>2021-03-03T01:00:21.024Z</td>\n      <td>2021-03-03T01:00:21.024Z</td>\n      <td>40757540</td>\n      <td>1047613</td>\n      <td>4607332150</td>\n    </tr>\n    <tr>\n      <th>45</th>\n      <td>45</td>\n      <td>2021-03-03T13:38:57.368Z</td>\n      <td>2021-03-03T13:38:57.368Z</td>\n      <td>40577040</td>\n      <td>1047613</td>\n      <td>4608735868</td>\n    </tr>\n    <tr>\n      <th>46</th>\n      <td>46</td>\n      <td>2021-03-03T14:38:09.225Z</td>\n      <td>2021-03-03T14:38:09.225Z</td>\n      <td>40796608</td>\n      <td>1047613</td>\n      <td>4609291580</td>\n    </tr>\n    <tr>\n      <th>47</th>\n      <td>47</td>\n      <td>2021-03-03T23:00:11.974Z</td>\n      <td>2021-03-03T23:00:11.974Z</td>\n      <td>40117659</td>\n      <td>1047613</td>\n      <td>4613706593</td>\n    </tr>\n    <tr>\n      <th>48</th>\n      <td>48</td>\n      <td>2021-03-04T02:08:06.582Z</td>\n      <td>2021-03-04T02:08:06.582Z</td>\n      <td>30768016</td>\n      <td>1047613</td>\n      <td>4614708197</td>\n    </tr>\n    <tr>\n      <th>49</th>\n      <td>49</td>\n      <td>2021-03-04T18:01:35.651Z</td>\n      <td>2021-03-04T18:01:35.651Z</td>\n      <td>40878059</td>\n      <td>1047613</td>\n      <td>4618323945</td>\n    </tr>\n    <tr>\n      <th>50</th>\n      <td>50</td>\n      <td>2021-03-05T21:34:14.240Z</td>\n      <td>2021-03-05T21:34:14.240Z</td>\n      <td>40893642</td>\n      <td>1047613</td>\n      <td>4626944100</td>\n    </tr>\n    <tr>\n      <th>51</th>\n      <td>51</td>\n      <td>2021-03-05T21:49:43.238Z</td>\n      <td>2021-03-05T21:49:43.238Z</td>\n      <td>40968395</td>\n      <td>1047613</td>\n      <td>4627055633</td>\n    </tr>\n    <tr>\n      <th>52</th>\n      <td>52</td>\n      <td>2021-03-07T12:43:08.911Z</td>\n      <td>2021-03-07T12:43:08.911Z</td>\n      <td>40336912</td>\n      <td>1047613</td>\n      <td>4636816588</td>\n    </tr>\n    <tr>\n      <th>53</th>\n      <td>53</td>\n      <td>2021-03-12T20:25:22.517Z</td>\n      <td>2021-03-12T20:25:22.517Z</td>\n      <td>41504542</td>\n      <td>1047613</td>\n      <td>4674188074</td>\n    </tr>\n    <tr>\n      <th>54</th>\n      <td>54</td>\n      <td>2021-03-12T20:33:14.700Z</td>\n      <td>2021-03-12T20:33:14.700Z</td>\n      <td>40618692</td>\n      <td>1047613</td>\n      <td>4674266385</td>\n    </tr>\n    <tr>\n      <th>55</th>\n      <td>55</td>\n      <td>2021-03-13T00:48:13.726Z</td>\n      <td>2021-03-13T00:48:13.726Z</td>\n      <td>40008926</td>\n      <td>1047613</td>\n      <td>4676272962</td>\n    </tr>\n    <tr>\n      <th>56</th>\n      <td>56</td>\n      <td>2021-03-13T03:54:12.406Z</td>\n      <td>2021-03-13T03:54:12.406Z</td>\n      <td>41328544</td>\n      <td>1047613</td>\n      <td>4676841317</td>\n    </tr>\n    <tr>\n      <th>57</th>\n      <td>57</td>\n      <td>2021-03-14T02:16:08.983Z</td>\n      <td>2021-03-14T02:16:08.983Z</td>\n      <td>41508160</td>\n      <td>1047613</td>\n      <td>4684296558</td>\n    </tr>\n    <tr>\n      <th>58</th>\n      <td>58</td>\n      <td>2021-03-14T07:34:09.638Z</td>\n      <td>2021-03-14T07:34:09.638Z</td>\n      <td>41569249</td>\n      <td>1047613</td>\n      <td>4684607655</td>\n    </tr>\n    <tr>\n      <th>59</th>\n      <td>59</td>\n      <td>2021-03-14T17:34:45.179Z</td>\n      <td>2021-03-14T17:34:45.179Z</td>\n      <td>41592698</td>\n      <td>1047613</td>\n      <td>4687103864</td>\n    </tr>\n  </tbody>\n</table>\n</div>"
     },
     "metadata": {}
    }
   ],
   "source": [
    "enroll = pd.read_csv(\"enroll.csv\")\n",
    "display(df)\n",
    "industry = pd.read_csv(\"industry.csv\")\n",
    "display(df7)\n",
    "order = pd.read_csv(\"ord.csv\")\n",
    "quest =  pd.read_csv(\"quest.csv\")\n",
    "study_domain  = pd.read_csv(\"study_domain.csv\")\n",
    "technology =  pd.read_csv(\"technology.csv\")\n",
    "transaction =  pd.read_csv(\"transaction.csv\")\n",
    "Geo  = pd.read_excel('commune.xlsx', sheet_name= 0)"
   ]
  },
  {
   "cell_type": "code",
   "execution_count": 495,
   "metadata": {},
   "outputs": [
    {
     "output_type": "execute_result",
     "data": {
      "text/plain": [
       "    Unnamed: 0 gender         dob commune                   created_at  \\\n",
       "0            0   male  25/08/1998  HT0111  2021-02-14T23:03:52.768400Z   \n",
       "28          28   male  13/02/1977  HT0111  2021-02-21T22:33:55.442235Z   \n",
       "\n",
       "                    modified_at department      education_level university  \\\n",
       "0   2021-02-14T23:03:52.768462Z        NAN              unknown    unknown   \n",
       "28  2021-02-21T22:33:55.442302Z       HT03  Bachelors (bacc +4)      other   \n",
       "\n",
       "   study_domain  ... have_computer_home internet_at_home hear_AA_1  \\\n",
       "0            []  ...            unknown          unknown   unknown   \n",
       "28    ['item1']  ...                Yes              Yes    Friend   \n",
       "\n",
       "                    after_AA                              quest_id Commune_en  \\\n",
       "0                    unknown  905dc006-ce95-11eb-b2f9-7c67a234f601        NaN   \n",
       "28  Finding a job/internship  9060617e-ce95-11eb-bd26-7c67a234f601        NaN   \n",
       "\n",
       "   Commune_FR Commune_Id Departement ADM1_PCODE  \n",
       "0         NaN        NaN         NaN        NaN  \n",
       "28        NaN        NaN         NaN        NaN  \n",
       "\n",
       "[2 rows x 22 columns]"
      ],
      "text/html": "<div>\n<style scoped>\n    .dataframe tbody tr th:only-of-type {\n        vertical-align: middle;\n    }\n\n    .dataframe tbody tr th {\n        vertical-align: top;\n    }\n\n    .dataframe thead th {\n        text-align: right;\n    }\n</style>\n<table border=\"1\" class=\"dataframe\">\n  <thead>\n    <tr style=\"text-align: right;\">\n      <th></th>\n      <th>Unnamed: 0</th>\n      <th>gender</th>\n      <th>dob</th>\n      <th>commune</th>\n      <th>created_at</th>\n      <th>modified_at</th>\n      <th>department</th>\n      <th>education_level</th>\n      <th>university</th>\n      <th>study_domain</th>\n      <th>...</th>\n      <th>have_computer_home</th>\n      <th>internet_at_home</th>\n      <th>hear_AA_1</th>\n      <th>after_AA</th>\n      <th>quest_id</th>\n      <th>Commune_en</th>\n      <th>Commune_FR</th>\n      <th>Commune_Id</th>\n      <th>Departement</th>\n      <th>ADM1_PCODE</th>\n    </tr>\n  </thead>\n  <tbody>\n    <tr>\n      <th>0</th>\n      <td>0</td>\n      <td>male</td>\n      <td>25/08/1998</td>\n      <td>HT0111</td>\n      <td>2021-02-14T23:03:52.768400Z</td>\n      <td>2021-02-14T23:03:52.768462Z</td>\n      <td>NAN</td>\n      <td>unknown</td>\n      <td>unknown</td>\n      <td>[]</td>\n      <td>...</td>\n      <td>unknown</td>\n      <td>unknown</td>\n      <td>unknown</td>\n      <td>unknown</td>\n      <td>905dc006-ce95-11eb-b2f9-7c67a234f601</td>\n      <td>NaN</td>\n      <td>NaN</td>\n      <td>NaN</td>\n      <td>NaN</td>\n      <td>NaN</td>\n    </tr>\n    <tr>\n      <th>28</th>\n      <td>28</td>\n      <td>male</td>\n      <td>13/02/1977</td>\n      <td>HT0111</td>\n      <td>2021-02-21T22:33:55.442235Z</td>\n      <td>2021-02-21T22:33:55.442302Z</td>\n      <td>HT03</td>\n      <td>Bachelors (bacc +4)</td>\n      <td>other</td>\n      <td>['item1']</td>\n      <td>...</td>\n      <td>Yes</td>\n      <td>Yes</td>\n      <td>Friend</td>\n      <td>Finding a job/internship</td>\n      <td>9060617e-ce95-11eb-bd26-7c67a234f601</td>\n      <td>NaN</td>\n      <td>NaN</td>\n      <td>NaN</td>\n      <td>NaN</td>\n      <td>NaN</td>\n    </tr>\n  </tbody>\n</table>\n<p>2 rows × 22 columns</p>\n</div>"
     },
     "metadata": {},
     "execution_count": 495
    }
   ],
   "source": [
    "\n",
    "Quest['department'] = Quest['department'].apply(lambda x  : str(x))\n",
    "Quest['department']= Quest['department'].apply(lambda x : x.upper())\n",
    "Quest['commune']= Quest['commune'].apply(lambda x : x.upper())\n",
    "Quest\n",
    "\n",
    "table1 = pd.merge(Quest,Geo, how = 'left',left_on =['department','commune'],right_on = ['ADM1_PCODE','Commune_Id'])\n"
   ]
  },
  {
   "cell_type": "code",
   "execution_count": 486,
   "metadata": {},
   "outputs": [
    {
     "output_type": "execute_result",
     "data": {
      "text/plain": [
       "0"
      ]
     },
     "metadata": {},
     "execution_count": 486
    }
   ],
   "source": [
    "\n",
    "table1['department'].isna().sum()\n"
   ]
  },
  {
   "cell_type": "code",
   "execution_count": null,
   "metadata": {},
   "outputs": [],
   "source": []
  },
  {
   "cell_type": "code",
   "execution_count": null,
   "metadata": {},
   "outputs": [],
   "source": []
  },
  {
   "cell_type": "code",
   "execution_count": null,
   "metadata": {},
   "outputs": [],
   "source": []
  },
  {
   "cell_type": "code",
   "execution_count": null,
   "metadata": {},
   "outputs": [],
   "source": []
  },
  {
   "cell_type": "code",
   "execution_count": null,
   "metadata": {},
   "outputs": [],
   "source": []
  },
  {
   "cell_type": "code",
   "execution_count": null,
   "metadata": {},
   "outputs": [],
   "source": []
  },
  {
   "cell_type": "code",
   "execution_count": null,
   "metadata": {},
   "outputs": [],
   "source": []
  },
  {
   "cell_type": "code",
   "execution_count": null,
   "metadata": {},
   "outputs": [],
   "source": []
  },
  {
   "cell_type": "code",
   "execution_count": null,
   "metadata": {},
   "outputs": [],
   "source": []
  },
  {
   "cell_type": "code",
   "execution_count": 418,
   "metadata": {},
   "outputs": [
    {
     "output_type": "stream",
     "name": "stdout",
     "text": [
      "Index(['Unnamed: 0', 'gender', 'dob', 'commune', 'created_at', 'modified_at',\n       'department', 'education_level', 'university', 'study_domain',\n       'current_employed', 'formal_sector_job', 'have_computer_home',\n       'internet_at_home', 'hear_AA_1', 'after_AA', 'quest_id', 'Commune_en',\n       'Commune_FR', 'Commune_Id', 'Departement', 'ADM1_PCODE'],\n      dtype='object')\n"
     ]
    }
   ],
   "source": [
    "#table1.to_csv(r'C:\\Users\\valci\\Desktop\\table1.csv',index = False)\n",
    "print(table1.columns)"
   ]
  },
  {
   "cell_type": "code",
   "execution_count": 340,
   "metadata": {},
   "outputs": [
    {
     "output_type": "execute_result",
     "data": {
      "text/plain": [
       "Index(['Unnamed: 0_x', 'gender', 'dob', 'commune', 'created_at', 'modified_at',\n",
       "       'department', 'education_level', 'university', 'study_domain',\n",
       "       'current_employed', 'formal_sector_job', 'have_computer_home',\n",
       "       'internet_at_home', 'hear_AA_1', 'after_AA', 'quest_id', 'Commune_en',\n",
       "       'Commune_FR', 'Commune_Id', 'Departement', 'ADM1_PCODE', 'Unnamed: 0_y',\n",
       "       'key_x', 'Study Domain', 'Unnamed: 0', 'key_y', 'Industry Domain'],\n",
       "      dtype='object')"
      ]
     },
     "metadata": {},
     "execution_count": 340
    }
   ],
   "source": [
    "\n",
    "y = pd.DataFrame(table1.created_at.str.split('T',1).tolist(),\n",
    "                         columns = ['Date_created_at','To_drop'])\n",
    "#print(np.round(table1.internet_at_home.value_counts(normalize =True),2)*100)\n",
    "#print(np.round(table1.have_computer_home.value_counts(normalize =True),2)*100)\n",
    "#np.round(table1.study_domain.value_counts(normalize =True),2)*100\n",
    "table2 = pd.merge(table1,study_domain, how = 'inner',left_on =['quest_id'],right_on = ['quest_id'] )\n",
    "table2.to_csv(r'C:\\Users\\valci\\Desktop\\Projet Data Processing\\table2.csv',index = False)\n",
    "table2.set_index('quest_id')\n",
    "y = pd.DataFrame(table1.created_at.str.split('T',1).tolist(),\n",
    "                         columns = ['Date_created_at','To_drop'])\n",
    "del y['To_drop']  \n",
    "table2['created_at'] = y \n",
    "table2  =   pd.merge(table2,industry, how = 'inner',left_on =['quest_id'],right_on = ['quest_id'] )\n",
    "table2\n",
    "table2=table2.rename(columns = {'values_y':'Industry Domain','values_x': 'Study Domain'})\n",
    "table2.columns\n"
   ]
  },
  {
   "cell_type": "code",
   "execution_count": 419,
   "metadata": {},
   "outputs": [
    {
     "output_type": "execute_result",
     "data": {
      "text/plain": [
       "     Unnamed: 0_x  gender         dob commune  created_at  \\\n",
       "0               1  female  29/09/1996  HT0111  2021-02-16   \n",
       "1               3    male  24/11/1996  HT0111  2021-02-16   \n",
       "2               3    male  24/11/1996  HT0111  2021-02-16   \n",
       "3               3    male  24/11/1996  HT0111  2021-02-16   \n",
       "4               3    male  24/11/1996  HT0111  2021-02-16   \n",
       "..            ...     ...         ...     ...         ...   \n",
       "953           247    male  28/12/1993  HT0621         NaN   \n",
       "954           248    male  17/04/1992  HT0412         NaN   \n",
       "955           249    male  22/07/1993  HT1012         NaN   \n",
       "956           249    male  22/07/1993  HT1012         NaN   \n",
       "957           249    male  22/07/1993  HT1012         NaN   \n",
       "\n",
       "                     modified_at department      education_level  \\\n",
       "0    2021-02-16T16:01:10.861899Z       HT01  Bachelors (bacc +4)   \n",
       "1    2021-02-16T16:57:55.754582Z       HT01  Bachelors (bacc +4)   \n",
       "2    2021-02-16T16:57:55.754582Z       HT01  Bachelors (bacc +4)   \n",
       "3    2021-02-16T16:57:55.754582Z       HT01  Bachelors (bacc +4)   \n",
       "4    2021-02-16T16:57:55.754582Z       HT01  Bachelors (bacc +4)   \n",
       "..                           ...        ...                  ...   \n",
       "953  2021-03-14T15:29:32.474055Z       HT06  Bachelors (bacc +4)   \n",
       "954  2021-03-08T16:35:07.806161Z       HT04  Bachelors (bacc +4)   \n",
       "955  2021-03-10T21:41:05.708787Z       HT10              Masters   \n",
       "956  2021-03-10T21:41:05.708787Z       HT10              Masters   \n",
       "957  2021-03-10T21:41:05.708787Z       HT10              Masters   \n",
       "\n",
       "                                            university        study_domain  \\\n",
       "0                                                other           ['other']   \n",
       "1       Ecole Supérieure d'Infotronique d'Haïti (ESIH)  ['item1', 'item6']   \n",
       "2       Ecole Supérieure d'Infotronique d'Haïti (ESIH)  ['item1', 'item6']   \n",
       "3       Ecole Supérieure d'Infotronique d'Haïti (ESIH)  ['item1', 'item6']   \n",
       "4       Ecole Supérieure d'Infotronique d'Haïti (ESIH)  ['item1', 'item6']   \n",
       "..                                                 ...                 ...   \n",
       "953  Centre de Techniques de Planification et d'Eco...           ['item2']   \n",
       "954                                              other           ['item1']   \n",
       "955                                              other           ['other']   \n",
       "956                                              other           ['other']   \n",
       "957                                              other           ['other']   \n",
       "\n",
       "     ... Commune_Id Departement ADM1_PCODE Unnamed: 0_y  key_x  \\\n",
       "0    ...     HT0111        West       HT01            0  other   \n",
       "1    ...     HT0111        West       HT01            1  item1   \n",
       "2    ...     HT0111        West       HT01            1  item1   \n",
       "3    ...     HT0111        West       HT01            1  item1   \n",
       "4    ...     HT0111        West       HT01            1  item1   \n",
       "..   ...        ...         ...        ...          ...    ...   \n",
       "953  ...     HT0621      Centre       HT06          284  item2   \n",
       "954  ...     HT0412  North-East       HT04          285  item1   \n",
       "955  ...     HT1012      Nippes       HT10          286  other   \n",
       "956  ...     HT1012      Nippes       HT10          286  other   \n",
       "957  ...     HT1012      Nippes       HT10          286  other   \n",
       "\n",
       "         Study Domain Unnamed: 0   key_y                     Industry Domain  \\\n",
       "0               other          0   item1                             Finance   \n",
       "1    Computer Science          6   item8                  Retail/ E-Commerce   \n",
       "2    Computer Science          7  item12                           Marketing   \n",
       "3    Computer Science          8   item6     Technology (Software/ Internet)   \n",
       "4    Computer Science          9   item5                           Education   \n",
       "..                ...        ...     ...                                 ...   \n",
       "953        Statistics        802   item4  Public Sector/ Non-Profit Agencies   \n",
       "954  Computer Science        803   item6     Technology (Software/ Internet)   \n",
       "955             other        804   item3                          Consulting   \n",
       "956             other        805   item5                           Education   \n",
       "957             other        806   item4  Public Sector/ Non-Profit Agencies   \n",
       "\n",
       "         Payment Method  \n",
       "0                   NaN  \n",
       "1                   NaN  \n",
       "2                   NaN  \n",
       "3                   NaN  \n",
       "4                   NaN  \n",
       "..                  ...  \n",
       "953  Credit Card/Paypal  \n",
       "954             Moncash  \n",
       "955             Moncash  \n",
       "956             Moncash  \n",
       "957             Moncash  \n",
       "\n",
       "[958 rows x 29 columns]"
      ],
      "text/html": "<div>\n<style scoped>\n    .dataframe tbody tr th:only-of-type {\n        vertical-align: middle;\n    }\n\n    .dataframe tbody tr th {\n        vertical-align: top;\n    }\n\n    .dataframe thead th {\n        text-align: right;\n    }\n</style>\n<table border=\"1\" class=\"dataframe\">\n  <thead>\n    <tr style=\"text-align: right;\">\n      <th></th>\n      <th>Unnamed: 0_x</th>\n      <th>gender</th>\n      <th>dob</th>\n      <th>commune</th>\n      <th>created_at</th>\n      <th>modified_at</th>\n      <th>department</th>\n      <th>education_level</th>\n      <th>university</th>\n      <th>study_domain</th>\n      <th>...</th>\n      <th>Commune_Id</th>\n      <th>Departement</th>\n      <th>ADM1_PCODE</th>\n      <th>Unnamed: 0_y</th>\n      <th>key_x</th>\n      <th>Study Domain</th>\n      <th>Unnamed: 0</th>\n      <th>key_y</th>\n      <th>Industry Domain</th>\n      <th>Payment Method</th>\n    </tr>\n  </thead>\n  <tbody>\n    <tr>\n      <th>0</th>\n      <td>1</td>\n      <td>female</td>\n      <td>29/09/1996</td>\n      <td>HT0111</td>\n      <td>2021-02-16</td>\n      <td>2021-02-16T16:01:10.861899Z</td>\n      <td>HT01</td>\n      <td>Bachelors (bacc +4)</td>\n      <td>other</td>\n      <td>['other']</td>\n      <td>...</td>\n      <td>HT0111</td>\n      <td>West</td>\n      <td>HT01</td>\n      <td>0</td>\n      <td>other</td>\n      <td>other</td>\n      <td>0</td>\n      <td>item1</td>\n      <td>Finance</td>\n      <td>NaN</td>\n    </tr>\n    <tr>\n      <th>1</th>\n      <td>3</td>\n      <td>male</td>\n      <td>24/11/1996</td>\n      <td>HT0111</td>\n      <td>2021-02-16</td>\n      <td>2021-02-16T16:57:55.754582Z</td>\n      <td>HT01</td>\n      <td>Bachelors (bacc +4)</td>\n      <td>Ecole Supérieure d'Infotronique d'Haïti (ESIH)</td>\n      <td>['item1', 'item6']</td>\n      <td>...</td>\n      <td>HT0111</td>\n      <td>West</td>\n      <td>HT01</td>\n      <td>1</td>\n      <td>item1</td>\n      <td>Computer Science</td>\n      <td>6</td>\n      <td>item8</td>\n      <td>Retail/ E-Commerce</td>\n      <td>NaN</td>\n    </tr>\n    <tr>\n      <th>2</th>\n      <td>3</td>\n      <td>male</td>\n      <td>24/11/1996</td>\n      <td>HT0111</td>\n      <td>2021-02-16</td>\n      <td>2021-02-16T16:57:55.754582Z</td>\n      <td>HT01</td>\n      <td>Bachelors (bacc +4)</td>\n      <td>Ecole Supérieure d'Infotronique d'Haïti (ESIH)</td>\n      <td>['item1', 'item6']</td>\n      <td>...</td>\n      <td>HT0111</td>\n      <td>West</td>\n      <td>HT01</td>\n      <td>1</td>\n      <td>item1</td>\n      <td>Computer Science</td>\n      <td>7</td>\n      <td>item12</td>\n      <td>Marketing</td>\n      <td>NaN</td>\n    </tr>\n    <tr>\n      <th>3</th>\n      <td>3</td>\n      <td>male</td>\n      <td>24/11/1996</td>\n      <td>HT0111</td>\n      <td>2021-02-16</td>\n      <td>2021-02-16T16:57:55.754582Z</td>\n      <td>HT01</td>\n      <td>Bachelors (bacc +4)</td>\n      <td>Ecole Supérieure d'Infotronique d'Haïti (ESIH)</td>\n      <td>['item1', 'item6']</td>\n      <td>...</td>\n      <td>HT0111</td>\n      <td>West</td>\n      <td>HT01</td>\n      <td>1</td>\n      <td>item1</td>\n      <td>Computer Science</td>\n      <td>8</td>\n      <td>item6</td>\n      <td>Technology (Software/ Internet)</td>\n      <td>NaN</td>\n    </tr>\n    <tr>\n      <th>4</th>\n      <td>3</td>\n      <td>male</td>\n      <td>24/11/1996</td>\n      <td>HT0111</td>\n      <td>2021-02-16</td>\n      <td>2021-02-16T16:57:55.754582Z</td>\n      <td>HT01</td>\n      <td>Bachelors (bacc +4)</td>\n      <td>Ecole Supérieure d'Infotronique d'Haïti (ESIH)</td>\n      <td>['item1', 'item6']</td>\n      <td>...</td>\n      <td>HT0111</td>\n      <td>West</td>\n      <td>HT01</td>\n      <td>1</td>\n      <td>item1</td>\n      <td>Computer Science</td>\n      <td>9</td>\n      <td>item5</td>\n      <td>Education</td>\n      <td>NaN</td>\n    </tr>\n    <tr>\n      <th>...</th>\n      <td>...</td>\n      <td>...</td>\n      <td>...</td>\n      <td>...</td>\n      <td>...</td>\n      <td>...</td>\n      <td>...</td>\n      <td>...</td>\n      <td>...</td>\n      <td>...</td>\n      <td>...</td>\n      <td>...</td>\n      <td>...</td>\n      <td>...</td>\n      <td>...</td>\n      <td>...</td>\n      <td>...</td>\n      <td>...</td>\n      <td>...</td>\n      <td>...</td>\n      <td>...</td>\n    </tr>\n    <tr>\n      <th>953</th>\n      <td>247</td>\n      <td>male</td>\n      <td>28/12/1993</td>\n      <td>HT0621</td>\n      <td>NaN</td>\n      <td>2021-03-14T15:29:32.474055Z</td>\n      <td>HT06</td>\n      <td>Bachelors (bacc +4)</td>\n      <td>Centre de Techniques de Planification et d'Eco...</td>\n      <td>['item2']</td>\n      <td>...</td>\n      <td>HT0621</td>\n      <td>Centre</td>\n      <td>HT06</td>\n      <td>284</td>\n      <td>item2</td>\n      <td>Statistics</td>\n      <td>802</td>\n      <td>item4</td>\n      <td>Public Sector/ Non-Profit Agencies</td>\n      <td>Credit Card/Paypal</td>\n    </tr>\n    <tr>\n      <th>954</th>\n      <td>248</td>\n      <td>male</td>\n      <td>17/04/1992</td>\n      <td>HT0412</td>\n      <td>NaN</td>\n      <td>2021-03-08T16:35:07.806161Z</td>\n      <td>HT04</td>\n      <td>Bachelors (bacc +4)</td>\n      <td>other</td>\n      <td>['item1']</td>\n      <td>...</td>\n      <td>HT0412</td>\n      <td>North-East</td>\n      <td>HT04</td>\n      <td>285</td>\n      <td>item1</td>\n      <td>Computer Science</td>\n      <td>803</td>\n      <td>item6</td>\n      <td>Technology (Software/ Internet)</td>\n      <td>Moncash</td>\n    </tr>\n    <tr>\n      <th>955</th>\n      <td>249</td>\n      <td>male</td>\n      <td>22/07/1993</td>\n      <td>HT1012</td>\n      <td>NaN</td>\n      <td>2021-03-10T21:41:05.708787Z</td>\n      <td>HT10</td>\n      <td>Masters</td>\n      <td>other</td>\n      <td>['other']</td>\n      <td>...</td>\n      <td>HT1012</td>\n      <td>Nippes</td>\n      <td>HT10</td>\n      <td>286</td>\n      <td>other</td>\n      <td>other</td>\n      <td>804</td>\n      <td>item3</td>\n      <td>Consulting</td>\n      <td>Moncash</td>\n    </tr>\n    <tr>\n      <th>956</th>\n      <td>249</td>\n      <td>male</td>\n      <td>22/07/1993</td>\n      <td>HT1012</td>\n      <td>NaN</td>\n      <td>2021-03-10T21:41:05.708787Z</td>\n      <td>HT10</td>\n      <td>Masters</td>\n      <td>other</td>\n      <td>['other']</td>\n      <td>...</td>\n      <td>HT1012</td>\n      <td>Nippes</td>\n      <td>HT10</td>\n      <td>286</td>\n      <td>other</td>\n      <td>other</td>\n      <td>805</td>\n      <td>item5</td>\n      <td>Education</td>\n      <td>Moncash</td>\n    </tr>\n    <tr>\n      <th>957</th>\n      <td>249</td>\n      <td>male</td>\n      <td>22/07/1993</td>\n      <td>HT1012</td>\n      <td>NaN</td>\n      <td>2021-03-10T21:41:05.708787Z</td>\n      <td>HT10</td>\n      <td>Masters</td>\n      <td>other</td>\n      <td>['other']</td>\n      <td>...</td>\n      <td>HT1012</td>\n      <td>Nippes</td>\n      <td>HT10</td>\n      <td>286</td>\n      <td>other</td>\n      <td>other</td>\n      <td>806</td>\n      <td>item4</td>\n      <td>Public Sector/ Non-Profit Agencies</td>\n      <td>Moncash</td>\n    </tr>\n  </tbody>\n</table>\n<p>958 rows × 29 columns</p>\n</div>"
     },
     "metadata": {},
     "execution_count": 419
    }
   ],
   "source": [
    "table3=pd.merge(enroll,transaction, how = 'right',left_on =['user_id'],right_on = ['user_id'] )\n",
    "table4 =pd.merge(enroll,order, how = 'right',left_on =['user_id'],right_on = ['user_id'] )\n",
    "table3['Payment Method'] = 'Moncash'\n",
    "table4['Payment Method'] = 'Credit Card/Paypal'\n",
    "\n",
    "x = table4.loc[:,['Payment Method','quest_id_y']]\n",
    "y = table3.loc[:,['Payment Method','quest_id']]\n",
    "x=x.rename(columns = {'quest_id_y': 'quest_id'})\n",
    "z\n",
    "final = pd.merge(table2,z,how = 'left', left_on = 'quest_id', right_on= 'quest_id')\n",
    "final.to_csv(r'C:\\Users\\valci\\Desktop\\Projet Data Processing\\final.csv',index = False)\n",
    "final"
   ]
  },
  {
   "cell_type": "code",
   "execution_count": 420,
   "metadata": {},
   "outputs": [],
   "source": [
    "\n",
    "#final.reset_index(inplace = True ,level = 0)\n",
    "#del final['Unnamed: 0_y']\n",
    "final.to_csv(r'C:\\Users\\valci\\Desktop\\Projet Data Processing\\final1.csv',index = False)\n",
    "final =final.loc[:,['gender','dob','commune','created_at','department','education_level','university','current_employed','formal_sector_job','have_computer_home','internet_at_home','hear_AA_1','after_AA','quest_id','Commune_en','Commune_Id','Departement','Study Domain','Payment Method']]\n",
    "\n"
   ]
  },
  {
   "cell_type": "code",
   "execution_count": 412,
   "metadata": {},
   "outputs": [
    {
     "output_type": "execute_result",
     "data": {
      "text/plain": [
       "   gender         dob commune  created_at department      education_level  \\\n",
       "1    male  24/11/1996  HT0111  2021-02-16       HT01  Bachelors (bacc +4)   \n",
       "2    male  24/11/1996  HT0111  2021-02-16       HT01  Bachelors (bacc +4)   \n",
       "3    male  24/11/1996  HT0111  2021-02-16       HT01  Bachelors (bacc +4)   \n",
       "4    male  24/11/1996  HT0111  2021-02-16       HT01  Bachelors (bacc +4)   \n",
       "5    male  24/11/1996  HT0111  2021-02-16       HT01  Bachelors (bacc +4)   \n",
       "6    male  24/11/1996  HT0111  2021-02-16       HT01  Bachelors (bacc +4)   \n",
       "7    male  24/11/1996  HT0111  2021-02-16       HT01  Bachelors (bacc +4)   \n",
       "8    male  24/11/1996  HT0111  2021-02-16       HT01  Bachelors (bacc +4)   \n",
       "9    male  24/11/1996  HT0111  2021-02-16       HT01  Bachelors (bacc +4)   \n",
       "10   male  24/11/1996  HT0111  2021-02-16       HT01  Bachelors (bacc +4)   \n",
       "\n",
       "                                        university current_employed  \\\n",
       "1   Ecole Supérieure d'Infotronique d'Haïti (ESIH)               No   \n",
       "2   Ecole Supérieure d'Infotronique d'Haïti (ESIH)               No   \n",
       "3   Ecole Supérieure d'Infotronique d'Haïti (ESIH)               No   \n",
       "4   Ecole Supérieure d'Infotronique d'Haïti (ESIH)               No   \n",
       "5   Ecole Supérieure d'Infotronique d'Haïti (ESIH)               No   \n",
       "6   Ecole Supérieure d'Infotronique d'Haïti (ESIH)               No   \n",
       "7   Ecole Supérieure d'Infotronique d'Haïti (ESIH)               No   \n",
       "8   Ecole Supérieure d'Infotronique d'Haïti (ESIH)               No   \n",
       "9   Ecole Supérieure d'Infotronique d'Haïti (ESIH)               No   \n",
       "10  Ecole Supérieure d'Infotronique d'Haïti (ESIH)               No   \n",
       "\n",
       "   formal_sector_job have_computer_home internet_at_home hear_AA_1  \\\n",
       "1            unknown                Yes              Yes      ESIH   \n",
       "2            unknown                Yes              Yes      ESIH   \n",
       "3            unknown                Yes              Yes      ESIH   \n",
       "4            unknown                Yes              Yes      ESIH   \n",
       "5            unknown                Yes              Yes      ESIH   \n",
       "6            unknown                Yes              Yes      ESIH   \n",
       "7            unknown                Yes              Yes      ESIH   \n",
       "8            unknown                Yes              Yes      ESIH   \n",
       "9            unknown                Yes              Yes      ESIH   \n",
       "10           unknown                Yes              Yes      ESIH   \n",
       "\n",
       "                             after_AA                              quest_id  \\\n",
       "1   Improving my data analysis skills  905e4cf5-ce95-11eb-96a9-7c67a234f601   \n",
       "2   Improving my data analysis skills  905e4cf5-ce95-11eb-96a9-7c67a234f601   \n",
       "3   Improving my data analysis skills  905e4cf5-ce95-11eb-96a9-7c67a234f601   \n",
       "4   Improving my data analysis skills  905e4cf5-ce95-11eb-96a9-7c67a234f601   \n",
       "5   Improving my data analysis skills  905e4cf5-ce95-11eb-96a9-7c67a234f601   \n",
       "6   Improving my data analysis skills  905e4cf5-ce95-11eb-96a9-7c67a234f601   \n",
       "7   Improving my data analysis skills  905e4cf5-ce95-11eb-96a9-7c67a234f601   \n",
       "8   Improving my data analysis skills  905e4cf5-ce95-11eb-96a9-7c67a234f601   \n",
       "9   Improving my data analysis skills  905e4cf5-ce95-11eb-96a9-7c67a234f601   \n",
       "10  Improving my data analysis skills  905e4cf5-ce95-11eb-96a9-7c67a234f601   \n",
       "\n",
       "        Commune_en Commune_Id Departement      Study Domain Payment Method  \n",
       "1   Port-au-Prince     HT0111        West  Computer Science            NaN  \n",
       "2   Port-au-Prince     HT0111        West  Computer Science            NaN  \n",
       "3   Port-au-Prince     HT0111        West  Computer Science            NaN  \n",
       "4   Port-au-Prince     HT0111        West  Computer Science            NaN  \n",
       "5   Port-au-Prince     HT0111        West  Computer Science            NaN  \n",
       "6   Port-au-Prince     HT0111        West        Management            NaN  \n",
       "7   Port-au-Prince     HT0111        West        Management            NaN  \n",
       "8   Port-au-Prince     HT0111        West        Management            NaN  \n",
       "9   Port-au-Prince     HT0111        West        Management            NaN  \n",
       "10  Port-au-Prince     HT0111        West        Management            NaN  "
      ],
      "text/html": "<div>\n<style scoped>\n    .dataframe tbody tr th:only-of-type {\n        vertical-align: middle;\n    }\n\n    .dataframe tbody tr th {\n        vertical-align: top;\n    }\n\n    .dataframe thead th {\n        text-align: right;\n    }\n</style>\n<table border=\"1\" class=\"dataframe\">\n  <thead>\n    <tr style=\"text-align: right;\">\n      <th></th>\n      <th>gender</th>\n      <th>dob</th>\n      <th>commune</th>\n      <th>created_at</th>\n      <th>department</th>\n      <th>education_level</th>\n      <th>university</th>\n      <th>current_employed</th>\n      <th>formal_sector_job</th>\n      <th>have_computer_home</th>\n      <th>internet_at_home</th>\n      <th>hear_AA_1</th>\n      <th>after_AA</th>\n      <th>quest_id</th>\n      <th>Commune_en</th>\n      <th>Commune_Id</th>\n      <th>Departement</th>\n      <th>Study Domain</th>\n      <th>Payment Method</th>\n    </tr>\n  </thead>\n  <tbody>\n    <tr>\n      <th>1</th>\n      <td>male</td>\n      <td>24/11/1996</td>\n      <td>HT0111</td>\n      <td>2021-02-16</td>\n      <td>HT01</td>\n      <td>Bachelors (bacc +4)</td>\n      <td>Ecole Supérieure d'Infotronique d'Haïti (ESIH)</td>\n      <td>No</td>\n      <td>unknown</td>\n      <td>Yes</td>\n      <td>Yes</td>\n      <td>ESIH</td>\n      <td>Improving my data analysis skills</td>\n      <td>905e4cf5-ce95-11eb-96a9-7c67a234f601</td>\n      <td>Port-au-Prince</td>\n      <td>HT0111</td>\n      <td>West</td>\n      <td>Computer Science</td>\n      <td>NaN</td>\n    </tr>\n    <tr>\n      <th>2</th>\n      <td>male</td>\n      <td>24/11/1996</td>\n      <td>HT0111</td>\n      <td>2021-02-16</td>\n      <td>HT01</td>\n      <td>Bachelors (bacc +4)</td>\n      <td>Ecole Supérieure d'Infotronique d'Haïti (ESIH)</td>\n      <td>No</td>\n      <td>unknown</td>\n      <td>Yes</td>\n      <td>Yes</td>\n      <td>ESIH</td>\n      <td>Improving my data analysis skills</td>\n      <td>905e4cf5-ce95-11eb-96a9-7c67a234f601</td>\n      <td>Port-au-Prince</td>\n      <td>HT0111</td>\n      <td>West</td>\n      <td>Computer Science</td>\n      <td>NaN</td>\n    </tr>\n    <tr>\n      <th>3</th>\n      <td>male</td>\n      <td>24/11/1996</td>\n      <td>HT0111</td>\n      <td>2021-02-16</td>\n      <td>HT01</td>\n      <td>Bachelors (bacc +4)</td>\n      <td>Ecole Supérieure d'Infotronique d'Haïti (ESIH)</td>\n      <td>No</td>\n      <td>unknown</td>\n      <td>Yes</td>\n      <td>Yes</td>\n      <td>ESIH</td>\n      <td>Improving my data analysis skills</td>\n      <td>905e4cf5-ce95-11eb-96a9-7c67a234f601</td>\n      <td>Port-au-Prince</td>\n      <td>HT0111</td>\n      <td>West</td>\n      <td>Computer Science</td>\n      <td>NaN</td>\n    </tr>\n    <tr>\n      <th>4</th>\n      <td>male</td>\n      <td>24/11/1996</td>\n      <td>HT0111</td>\n      <td>2021-02-16</td>\n      <td>HT01</td>\n      <td>Bachelors (bacc +4)</td>\n      <td>Ecole Supérieure d'Infotronique d'Haïti (ESIH)</td>\n      <td>No</td>\n      <td>unknown</td>\n      <td>Yes</td>\n      <td>Yes</td>\n      <td>ESIH</td>\n      <td>Improving my data analysis skills</td>\n      <td>905e4cf5-ce95-11eb-96a9-7c67a234f601</td>\n      <td>Port-au-Prince</td>\n      <td>HT0111</td>\n      <td>West</td>\n      <td>Computer Science</td>\n      <td>NaN</td>\n    </tr>\n    <tr>\n      <th>5</th>\n      <td>male</td>\n      <td>24/11/1996</td>\n      <td>HT0111</td>\n      <td>2021-02-16</td>\n      <td>HT01</td>\n      <td>Bachelors (bacc +4)</td>\n      <td>Ecole Supérieure d'Infotronique d'Haïti (ESIH)</td>\n      <td>No</td>\n      <td>unknown</td>\n      <td>Yes</td>\n      <td>Yes</td>\n      <td>ESIH</td>\n      <td>Improving my data analysis skills</td>\n      <td>905e4cf5-ce95-11eb-96a9-7c67a234f601</td>\n      <td>Port-au-Prince</td>\n      <td>HT0111</td>\n      <td>West</td>\n      <td>Computer Science</td>\n      <td>NaN</td>\n    </tr>\n    <tr>\n      <th>6</th>\n      <td>male</td>\n      <td>24/11/1996</td>\n      <td>HT0111</td>\n      <td>2021-02-16</td>\n      <td>HT01</td>\n      <td>Bachelors (bacc +4)</td>\n      <td>Ecole Supérieure d'Infotronique d'Haïti (ESIH)</td>\n      <td>No</td>\n      <td>unknown</td>\n      <td>Yes</td>\n      <td>Yes</td>\n      <td>ESIH</td>\n      <td>Improving my data analysis skills</td>\n      <td>905e4cf5-ce95-11eb-96a9-7c67a234f601</td>\n      <td>Port-au-Prince</td>\n      <td>HT0111</td>\n      <td>West</td>\n      <td>Management</td>\n      <td>NaN</td>\n    </tr>\n    <tr>\n      <th>7</th>\n      <td>male</td>\n      <td>24/11/1996</td>\n      <td>HT0111</td>\n      <td>2021-02-16</td>\n      <td>HT01</td>\n      <td>Bachelors (bacc +4)</td>\n      <td>Ecole Supérieure d'Infotronique d'Haïti (ESIH)</td>\n      <td>No</td>\n      <td>unknown</td>\n      <td>Yes</td>\n      <td>Yes</td>\n      <td>ESIH</td>\n      <td>Improving my data analysis skills</td>\n      <td>905e4cf5-ce95-11eb-96a9-7c67a234f601</td>\n      <td>Port-au-Prince</td>\n      <td>HT0111</td>\n      <td>West</td>\n      <td>Management</td>\n      <td>NaN</td>\n    </tr>\n    <tr>\n      <th>8</th>\n      <td>male</td>\n      <td>24/11/1996</td>\n      <td>HT0111</td>\n      <td>2021-02-16</td>\n      <td>HT01</td>\n      <td>Bachelors (bacc +4)</td>\n      <td>Ecole Supérieure d'Infotronique d'Haïti (ESIH)</td>\n      <td>No</td>\n      <td>unknown</td>\n      <td>Yes</td>\n      <td>Yes</td>\n      <td>ESIH</td>\n      <td>Improving my data analysis skills</td>\n      <td>905e4cf5-ce95-11eb-96a9-7c67a234f601</td>\n      <td>Port-au-Prince</td>\n      <td>HT0111</td>\n      <td>West</td>\n      <td>Management</td>\n      <td>NaN</td>\n    </tr>\n    <tr>\n      <th>9</th>\n      <td>male</td>\n      <td>24/11/1996</td>\n      <td>HT0111</td>\n      <td>2021-02-16</td>\n      <td>HT01</td>\n      <td>Bachelors (bacc +4)</td>\n      <td>Ecole Supérieure d'Infotronique d'Haïti (ESIH)</td>\n      <td>No</td>\n      <td>unknown</td>\n      <td>Yes</td>\n      <td>Yes</td>\n      <td>ESIH</td>\n      <td>Improving my data analysis skills</td>\n      <td>905e4cf5-ce95-11eb-96a9-7c67a234f601</td>\n      <td>Port-au-Prince</td>\n      <td>HT0111</td>\n      <td>West</td>\n      <td>Management</td>\n      <td>NaN</td>\n    </tr>\n    <tr>\n      <th>10</th>\n      <td>male</td>\n      <td>24/11/1996</td>\n      <td>HT0111</td>\n      <td>2021-02-16</td>\n      <td>HT01</td>\n      <td>Bachelors (bacc +4)</td>\n      <td>Ecole Supérieure d'Infotronique d'Haïti (ESIH)</td>\n      <td>No</td>\n      <td>unknown</td>\n      <td>Yes</td>\n      <td>Yes</td>\n      <td>ESIH</td>\n      <td>Improving my data analysis skills</td>\n      <td>905e4cf5-ce95-11eb-96a9-7c67a234f601</td>\n      <td>Port-au-Prince</td>\n      <td>HT0111</td>\n      <td>West</td>\n      <td>Management</td>\n      <td>NaN</td>\n    </tr>\n  </tbody>\n</table>\n</div>"
     },
     "metadata": {},
     "execution_count": 412
    }
   ],
   "source": [
    "final[final['quest_id'] == '905e4cf5-ce95-11eb-96a9-7c67a234f601']\n"
   ]
  },
  {
   "cell_type": "code",
   "execution_count": 401,
   "metadata": {},
   "outputs": [],
   "source": [
    "Table_clean=final.drop_duplicates()"
   ]
  },
  {
   "cell_type": "code",
   "execution_count": 429,
   "metadata": {},
   "outputs": [
    {
     "output_type": "execute_result",
     "data": {
      "text/plain": [
       "Delmas                            79\n",
       "Port-au-Prince                    66\n",
       "Carrefour                         28\n",
       "Petion-Ville                      28\n",
       "Tabarre                           15\n",
       "Croix-Des-Bouquets                11\n",
       "Cap-Haitien                        6\n",
       "Jacmel                             5\n",
       "Saint-Marc                         4\n",
       "Verrettes                          4\n",
       "Mirebalais                         3\n",
       "Ouanaminthe                        3\n",
       "Cite Soleil                        3\n",
       "Aquin                              2\n",
       "Leogane                            2\n",
       "Dondon                             2\n",
       "Gressier                           2\n",
       "Grand-Goave                        1\n",
       "Petite Riviere de Nippes           1\n",
       "Port-Salut                         1\n",
       "Gros Morne                         1\n",
       "Caracol                            1\n",
       "Kenscoff                           1\n",
       "Plaine du Nord                     1\n",
       "Sainte Suzanne                     1\n",
       "Mombin Crochu                      1\n",
       "Petite Riviere de l'Artibonite     1\n",
       "Petit-Goave                        1\n",
       "Ganthier                           1\n",
       "Hinche                             1\n",
       "Les Cayes                          1\n",
       "Saint-Louis du Nord                1\n",
       "Ferrier                            1\n",
       "Cornillon / Grand Bois             1\n",
       "Limonade                           1\n",
       "Name: Commune_en, dtype: int64"
      ]
     },
     "metadata": {},
     "execution_count": 429
    }
   ],
   "source": [
    "Table_clean['Commune_en'].value_counts()"
   ]
  },
  {
   "cell_type": "code",
   "execution_count": null,
   "metadata": {},
   "outputs": [],
   "source": []
  }
 ],
 "metadata": {
  "interpreter": {
   "hash": "92bd0ae6912c649d295ec8fdde72501389ab96229fa2eaef97fff48b65196f4b"
  },
  "kernelspec": {
   "name": "python3",
   "display_name": "Python 3.8.5 64-bit ('base': conda)"
  },
  "language_info": {
   "codemirror_mode": {
    "name": "ipython",
    "version": 3
   },
   "file_extension": ".py",
   "mimetype": "text/x-python",
   "name": "python",
   "nbconvert_exporter": "python",
   "pygments_lexer": "ipython3",
   "version": "3.8.5"
  }
 },
 "nbformat": 4,
 "nbformat_minor": 2
}